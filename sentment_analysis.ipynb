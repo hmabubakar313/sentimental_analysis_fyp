{
 "cells": [
  {
   "cell_type": "markdown",
   "metadata": {},
   "source": []
  },
  {
   "cell_type": "markdown",
   "metadata": {},
   "source": [
    "### This is the jupyter notebook for sentiment analysis of the tweets using the Twitter API\n",
    "### FYP project\n",
    "### Author: Muhammad Abu Bakar\n",
    "### Author: Muhammad Faiz Hassan\n"
   ]
  },
  {
   "cell_type": "code",
   "execution_count": 72,
   "metadata": {
    "scrolled": true
   },
   "outputs": [],
   "source": [
    "# 1. Import Libraries\n",
    "\n",
    "import pandas as pd\n",
    "import numpy as np\n",
    "import matplotlib.pyplot as plt\n",
    "import seaborn as sns\n",
    "import tweepy\n",
    "from tweepy import OAuthHandler\n"
   ]
  },
  {
   "cell_type": "code",
   "execution_count": 73,
   "metadata": {
    "scrolled": true
   },
   "outputs": [
    {
     "name": "stdout",
     "output_type": "stream",
     "text": [
      "<tweepy.api.API object at 0x7f06456f7100>\n"
     ]
    }
   ],
   "source": [
    "# 2. Import keys.py\n",
    "\n",
    "\n",
    "\n",
    "auth = tweepy.OAuthHandler( consumer_key , consumer_key_secret )\n",
    "auth.set_access_token( access_token , access_token_secret )\n",
    "api = tweepy.API(auth)\n",
    "\n",
    "print(api)\n"
   ]
  },
  {
   "cell_type": "code",
   "execution_count": 74,
   "metadata": {},
   "outputs": [
    {
     "name": "stdout",
     "output_type": "stream",
     "text": [
      "Empty DataFrame\n",
      "Columns: [Date, User, IsVerified, Tweet, Likes, RT, User_location]\n",
      "Index: []\n"
     ]
    }
   ],
   "source": [
    "# 3.To get the tweets in a Proper format, first lets create a Dataframe to store the extracted data.\n",
    "\n",
    "df = pd.DataFrame(columns=[\"Date\",\"User\",\"IsVerified\",\"Tweet\",\"Likes\",\"RT\",'User_location'])\n",
    "\n",
    "# df['date'] = df['date'].apply(lambda a: pd.to_datetime(a).date())\n",
    "# df['date'] = pd.to_datetime(df['date'])\n",
    "# df.dtypes\n",
    "# df['date'] = df['date'].dt.tz_localize(None)\n",
    "print(df)\n",
    "\n"
   ]
  },
  {
   "cell_type": "markdown",
   "metadata": {},
   "source": [
    "## We will use api as api.search inside this tweepy cursor.\n"
   ]
  },
  {
   "cell_type": "code",
   "execution_count": 75,
   "metadata": {},
   "outputs": [
    {
     "name": "stdout",
     "output_type": "stream",
     "text": [
      "10\r"
     ]
    }
   ],
   "source": [
    "# 4.Write a Function to extract tweets:\n",
    "\n",
    "# We will Use **tweepy.cursor()** because we want to extract a larger number of tweets i.e over 100,500 etc\n",
    "\n",
    "\n",
    "\n",
    "\n",
    "def get_tweets(Topic,Count):    \n",
    "    i=0\n",
    "    for tweet in tweepy.Cursor(api.search_tweets, q=Topic,count=10, lang=\"en\").items():\n",
    "        print(i, end='\\r')\n",
    "        date=tweet.created_at\n",
    "        df.loc[i,\"Date\"] = date.strftime(\"%Y-%m-%d\")\n",
    "        df.loc[i,\"User\"] = tweet.user.name\n",
    "        df.loc[i,\"IsVerified\"] = tweet.user.verified\n",
    "        df.loc[i,\"Tweet\"] = tweet.text\n",
    "        df.loc[i,\"Likes\"] = tweet.favorite_count\n",
    "        df.loc[i,\"RT\"] = tweet.retweet_count\n",
    "        df.loc[i,\"User_location\"] = tweet.user.location\n",
    "        #df.to_csv(\"TweetDataset.csv\",index=False)\n",
    "        df.to_excel('{}.xlsx'.format(\"TweetDataset\"),index=False)   ## Save as Excel\n",
    "        i=i+1\n",
    "        if i>Count:\n",
    "            break\n",
    "        else:\n",
    "            pass\n",
    "\n",
    "# take input from user\n",
    "Topic = \"Pakistan\"\n",
    "# Topic=[\"Pakistan\"]\n",
    "get_tweets(Topic , Count=10)"
   ]
  },
  {
   "cell_type": "code",
   "execution_count": 76,
   "metadata": {},
   "outputs": [
    {
     "data": {
      "text/html": [
       "<div>\n",
       "<style scoped>\n",
       "    .dataframe tbody tr th:only-of-type {\n",
       "        vertical-align: middle;\n",
       "    }\n",
       "\n",
       "    .dataframe tbody tr th {\n",
       "        vertical-align: top;\n",
       "    }\n",
       "\n",
       "    .dataframe thead th {\n",
       "        text-align: right;\n",
       "    }\n",
       "</style>\n",
       "<table border=\"1\" class=\"dataframe\">\n",
       "  <thead>\n",
       "    <tr style=\"text-align: right;\">\n",
       "      <th></th>\n",
       "      <th>Date</th>\n",
       "      <th>User</th>\n",
       "      <th>IsVerified</th>\n",
       "      <th>Tweet</th>\n",
       "      <th>Likes</th>\n",
       "      <th>RT</th>\n",
       "      <th>User_location</th>\n",
       "    </tr>\n",
       "  </thead>\n",
       "  <tbody>\n",
       "    <tr>\n",
       "      <th>0</th>\n",
       "      <td>2022-12-23</td>\n",
       "      <td>Afloat</td>\n",
       "      <td>False</td>\n",
       "      <td>RT @AbhijitChavda: Someone tell our Israeli fr...</td>\n",
       "      <td>0</td>\n",
       "      <td>744</td>\n",
       "      <td>भूमध्य रेखा से दाएं</td>\n",
       "    </tr>\n",
       "    <tr>\n",
       "      <th>1</th>\n",
       "      <td>2022-12-23</td>\n",
       "      <td>M Zia Ul Qamar</td>\n",
       "      <td>False</td>\n",
       "      <td>RT @akbarnasirkhan: Another son of @ICT_Police...</td>\n",
       "      <td>0</td>\n",
       "      <td>72</td>\n",
       "      <td>Islamabad</td>\n",
       "    </tr>\n",
       "    <tr>\n",
       "      <th>2</th>\n",
       "      <td>2022-12-23</td>\n",
       "      <td>AMIR</td>\n",
       "      <td>False</td>\n",
       "      <td>Pakistan among the lowest ranked countries in ...</td>\n",
       "      <td>0</td>\n",
       "      <td>0</td>\n",
       "      <td></td>\n",
       "    </tr>\n",
       "    <tr>\n",
       "      <th>3</th>\n",
       "      <td>2022-12-23</td>\n",
       "      <td>Hasnain khan</td>\n",
       "      <td>False</td>\n",
       "      <td>RT @JamiatPK: It has been 75 long years that I...</td>\n",
       "      <td>0</td>\n",
       "      <td>16</td>\n",
       "      <td>Peshawar, Pakistan</td>\n",
       "    </tr>\n",
       "    <tr>\n",
       "      <th>4</th>\n",
       "      <td>2022-12-23</td>\n",
       "      <td>Abnt</td>\n",
       "      <td>False</td>\n",
       "      <td>RT @pakistan_untold: Pakistan was created on t...</td>\n",
       "      <td>0</td>\n",
       "      <td>707</td>\n",
       "      <td></td>\n",
       "    </tr>\n",
       "    <tr>\n",
       "      <th>5</th>\n",
       "      <td>2022-12-23</td>\n",
       "      <td>OhYesThatGuy | Storyteller | Copywriter</td>\n",
       "      <td>False</td>\n",
       "      <td>@CSKFansOfficial @msdhoni Is this when he scor...</td>\n",
       "      <td>0</td>\n",
       "      <td>0</td>\n",
       "      <td>Dil Se(v) Indori❤️Baaki chhodo</td>\n",
       "    </tr>\n",
       "    <tr>\n",
       "      <th>6</th>\n",
       "      <td>2022-12-23</td>\n",
       "      <td>𝙆ᴬ𝙇𝐢𝙈 𝙐𝙇𝙇ᴬ𝙃🇵🇰</td>\n",
       "      <td>False</td>\n",
       "      <td>RT @callme_Mahnooor: Global ratings agency S&amp;a...</td>\n",
       "      <td>0</td>\n",
       "      <td>29</td>\n",
       "      <td>🇵🇰GHQ🇵🇰</td>\n",
       "    </tr>\n",
       "    <tr>\n",
       "      <th>7</th>\n",
       "      <td>2022-12-23</td>\n",
       "      <td>Abbas Abbasi</td>\n",
       "      <td>False</td>\n",
       "      <td>RT @breeezofspring: There is a law of the jung...</td>\n",
       "      <td>0</td>\n",
       "      <td>1</td>\n",
       "      <td></td>\n",
       "    </tr>\n",
       "  </tbody>\n",
       "</table>\n",
       "</div>"
      ],
      "text/plain": [
       "         Date                                     User IsVerified  \\\n",
       "0  2022-12-23                                   Afloat      False   \n",
       "1  2022-12-23                           M Zia Ul Qamar      False   \n",
       "2  2022-12-23                                     AMIR      False   \n",
       "3  2022-12-23                             Hasnain khan      False   \n",
       "4  2022-12-23                                     Abnt      False   \n",
       "5  2022-12-23  OhYesThatGuy | Storyteller | Copywriter      False   \n",
       "6  2022-12-23                            𝙆ᴬ𝙇𝐢𝙈 𝙐𝙇𝙇ᴬ𝙃🇵🇰      False   \n",
       "7  2022-12-23                             Abbas Abbasi      False   \n",
       "\n",
       "                                               Tweet Likes   RT  \\\n",
       "0  RT @AbhijitChavda: Someone tell our Israeli fr...     0  744   \n",
       "1  RT @akbarnasirkhan: Another son of @ICT_Police...     0   72   \n",
       "2  Pakistan among the lowest ranked countries in ...     0    0   \n",
       "3  RT @JamiatPK: It has been 75 long years that I...     0   16   \n",
       "4  RT @pakistan_untold: Pakistan was created on t...     0  707   \n",
       "5  @CSKFansOfficial @msdhoni Is this when he scor...     0    0   \n",
       "6  RT @callme_Mahnooor: Global ratings agency S&a...     0   29   \n",
       "7  RT @breeezofspring: There is a law of the jung...     0    1   \n",
       "\n",
       "                    User_location  \n",
       "0            भूमध्य रेखा से दाएं   \n",
       "1                       Islamabad  \n",
       "2                                  \n",
       "3             Peshawar, Pakistan   \n",
       "4                                  \n",
       "5  Dil Se(v) Indori❤️Baaki chhodo  \n",
       "6                         🇵🇰GHQ🇵🇰  \n",
       "7                                  "
      ]
     },
     "execution_count": 76,
     "metadata": {},
     "output_type": "execute_result"
    }
   ],
   "source": [
    "# Showing the data the Data\n",
    "df.head(8)"
   ]
  },
  {
   "cell_type": "code",
   "execution_count": 77,
   "metadata": {},
   "outputs": [
    {
     "name": "stderr",
     "output_type": "stream",
     "text": [
      "[nltk_data] Downloading package stopwords to /home/bakar/nltk_data...\n",
      "[nltk_data]   Package stopwords is already up-to-date!\n"
     ]
    }
   ],
   "source": [
    "# Function to Clean the Tweet.\n",
    "import nltk\n",
    "import re\n",
    "from nltk.corpus import stopwords\n",
    "nltk.download('stopwords')\n",
    "# clean the tweet remove RT, Special characters, links, etc without regex\n",
    "def clean_tweet(tweet):\n",
    "    tweet = re.sub(r'@[A-Za-z0-9]+', '', tweet) # remove @mentions\n",
    "    tweet = re.sub(r'#', '', tweet) # remove # symbol\n",
    "    tweet = re.sub(r'RT[\\s]+', '', tweet) # remove RT\n",
    "    tweet = re.sub(r'https?:\\/\\/\\S+', '', tweet) # remove hyperlink\n",
    "    tweet = re.sub(r'[^a-zA-Z0-9]', ' ', tweet) # remove special characters\n",
    "    tweet = re.sub(r'\\s+', ' ', tweet) # remove extra spaces\n",
    "    tweet = re.sub(r'[0-9]+', '', tweet)\n",
    "    tweet = re.sub(r'\\b\\w{1,2}\\b', '', tweet)\n",
    "    # get bad and good words from the text\n",
    "    tweet = tweet.lower()\n",
    "    tweet = tweet.strip()\n",
    "    tweet = tweet.split()\n",
    "    tweet = [word for word in tweet if word not in stopwords.words('english')]\n",
    "    print(tweet)\n",
    "    return tweet\n",
    "    \n",
    "\n",
    "\n",
    "\n",
    "\n",
    "            \n",
    "# We only want the Text so :\n",
    "\n",
    "# (@[A-Za-z0-9]+)   : Delete Anything like @hello @Letsupgrade etc\n",
    "# ([^0-9A-Za-z \\t]) : Delete everything other than text,number,space,tabspace\n",
    "# (\\w+:\\/\\/\\S+)     : Delete https://\n",
    "# ([RT]) : Remove \"RT\" from the tweet"
   ]
  },
  {
   "cell_type": "code",
   "execution_count": 78,
   "metadata": {},
   "outputs": [],
   "source": [
    "from textblob import TextBlob\n",
    "def analyze_sentiment(tweet):\n",
    "    analysis = TextBlob(tweet)\n",
    "    if analysis.sentiment.polarity > 0:\n",
    "        return 'Positive'\n",
    "    elif analysis.sentiment.polarity == 0:\n",
    "        return 'Neutral'\n",
    "    else:\n",
    "        return 'Negative'\n",
    "\n"
   ]
  },
  {
   "cell_type": "code",
   "execution_count": 79,
   "metadata": {},
   "outputs": [
    {
     "name": "stdout",
     "output_type": "stream",
     "text": [
      "['someone', 'tell', 'israeli', 'friends', 'pakistan', 'years', 'ago', 'let', 'alone', 'years', 'ago', 'india']\n",
      "['another', 'son', 'police', 'head', 'constable', 'adeel', 'hussain', 'laid', 'life', 'today', 'friday', 'save', 'many', 'many', 'others']\n",
      "['pakistan', 'among', 'lowest', 'ranked', 'countries', 'adherence', 'rule', 'law', 'ranking', 'nations']\n",
      "['long', 'years', 'islami', 'jamiat', 'talaba', 'pakistan', 'endeavoring', 'spread', 'message', 'quran', 'sunnah']\n",
      "['untold', 'pakistan', 'created', 'logic', 'muslim', 'majority', 'hindus', 'worrying', 'growing', 'muslim', 'population', 'india']\n",
      "['scored', 'pakistan']\n",
      "['mahnooor', 'global', 'ratings', 'agency', 'amp', 'global', 'thursday', 'cut', 'pakistan', 'long', 'term', 'sovereign', 'credit', 'rating', 'one', 'notch', 'ccc']\n",
      "['law', 'jungle', 'pakistan', 'thieves', 'sitting', 'helm', 'affairs', 'soon', 'came']\n",
      "['amir', 'pakistan', 'secured', 'foreign', 'direct', 'investment', 'fdi', 'billion', 'first', 'months', 'financial', 'year', 'high']\n",
      "['another', 'son', 'police', 'head', 'constable', 'adeel', 'hussain', 'laid', 'life', 'today', 'friday', 'save', 'many', 'many', 'others']\n",
      "['heavy', 'rain', 'makkah', 'madinah', 'december', 'welcome', 'purana', 'pakistan', 'mirza', 'bilal', 'baig']\n"
     ]
    },
    {
     "data": {
      "text/html": [
       "<div>\n",
       "<style scoped>\n",
       "    .dataframe tbody tr th:only-of-type {\n",
       "        vertical-align: middle;\n",
       "    }\n",
       "\n",
       "    .dataframe tbody tr th {\n",
       "        vertical-align: top;\n",
       "    }\n",
       "\n",
       "    .dataframe thead th {\n",
       "        text-align: right;\n",
       "    }\n",
       "</style>\n",
       "<table border=\"1\" class=\"dataframe\">\n",
       "  <thead>\n",
       "    <tr style=\"text-align: right;\">\n",
       "      <th></th>\n",
       "      <th>Date</th>\n",
       "      <th>User</th>\n",
       "      <th>IsVerified</th>\n",
       "      <th>Tweet</th>\n",
       "      <th>Likes</th>\n",
       "      <th>RT</th>\n",
       "      <th>User_location</th>\n",
       "      <th>clean_tweet</th>\n",
       "    </tr>\n",
       "  </thead>\n",
       "  <tbody>\n",
       "    <tr>\n",
       "      <th>0</th>\n",
       "      <td>2022-12-23</td>\n",
       "      <td>Afloat</td>\n",
       "      <td>False</td>\n",
       "      <td>RT @AbhijitChavda: Someone tell our Israeli fr...</td>\n",
       "      <td>0</td>\n",
       "      <td>744</td>\n",
       "      <td>भूमध्य रेखा से दाएं</td>\n",
       "      <td>[someone, tell, israeli, friends, pakistan, ye...</td>\n",
       "    </tr>\n",
       "    <tr>\n",
       "      <th>1</th>\n",
       "      <td>2022-12-23</td>\n",
       "      <td>M Zia Ul Qamar</td>\n",
       "      <td>False</td>\n",
       "      <td>RT @akbarnasirkhan: Another son of @ICT_Police...</td>\n",
       "      <td>0</td>\n",
       "      <td>72</td>\n",
       "      <td>Islamabad</td>\n",
       "      <td>[another, son, police, head, constable, adeel,...</td>\n",
       "    </tr>\n",
       "    <tr>\n",
       "      <th>2</th>\n",
       "      <td>2022-12-23</td>\n",
       "      <td>AMIR</td>\n",
       "      <td>False</td>\n",
       "      <td>Pakistan among the lowest ranked countries in ...</td>\n",
       "      <td>0</td>\n",
       "      <td>0</td>\n",
       "      <td></td>\n",
       "      <td>[pakistan, among, lowest, ranked, countries, a...</td>\n",
       "    </tr>\n",
       "    <tr>\n",
       "      <th>3</th>\n",
       "      <td>2022-12-23</td>\n",
       "      <td>Hasnain khan</td>\n",
       "      <td>False</td>\n",
       "      <td>RT @JamiatPK: It has been 75 long years that I...</td>\n",
       "      <td>0</td>\n",
       "      <td>16</td>\n",
       "      <td>Peshawar, Pakistan</td>\n",
       "      <td>[long, years, islami, jamiat, talaba, pakistan...</td>\n",
       "    </tr>\n",
       "    <tr>\n",
       "      <th>4</th>\n",
       "      <td>2022-12-23</td>\n",
       "      <td>Abnt</td>\n",
       "      <td>False</td>\n",
       "      <td>RT @pakistan_untold: Pakistan was created on t...</td>\n",
       "      <td>0</td>\n",
       "      <td>707</td>\n",
       "      <td></td>\n",
       "      <td>[untold, pakistan, created, logic, muslim, maj...</td>\n",
       "    </tr>\n",
       "  </tbody>\n",
       "</table>\n",
       "</div>"
      ],
      "text/plain": [
       "         Date            User IsVerified  \\\n",
       "0  2022-12-23          Afloat      False   \n",
       "1  2022-12-23  M Zia Ul Qamar      False   \n",
       "2  2022-12-23            AMIR      False   \n",
       "3  2022-12-23    Hasnain khan      False   \n",
       "4  2022-12-23            Abnt      False   \n",
       "\n",
       "                                               Tweet Likes   RT  \\\n",
       "0  RT @AbhijitChavda: Someone tell our Israeli fr...     0  744   \n",
       "1  RT @akbarnasirkhan: Another son of @ICT_Police...     0   72   \n",
       "2  Pakistan among the lowest ranked countries in ...     0    0   \n",
       "3  RT @JamiatPK: It has been 75 long years that I...     0   16   \n",
       "4  RT @pakistan_untold: Pakistan was created on t...     0  707   \n",
       "\n",
       "          User_location                                        clean_tweet  \n",
       "0  भूमध्य रेखा से दाएं   [someone, tell, israeli, friends, pakistan, ye...  \n",
       "1             Islamabad  [another, son, police, head, constable, adeel,...  \n",
       "2                        [pakistan, among, lowest, ranked, countries, a...  \n",
       "3   Peshawar, Pakistan   [long, years, islami, jamiat, talaba, pakistan...  \n",
       "4                        [untold, pakistan, created, logic, muslim, maj...  "
      ]
     },
     "execution_count": 79,
     "metadata": {},
     "output_type": "execute_result"
    }
   ],
   "source": [
    "df['clean_tweet'] = df['Tweet'].apply(lambda x : clean_tweet(x))\n",
    "df.head(5)\n"
   ]
  },
  {
   "cell_type": "code",
   "execution_count": 80,
   "metadata": {},
   "outputs": [
    {
     "data": {
      "text/html": [
       "<div>\n",
       "<style scoped>\n",
       "    .dataframe tbody tr th:only-of-type {\n",
       "        vertical-align: middle;\n",
       "    }\n",
       "\n",
       "    .dataframe tbody tr th {\n",
       "        vertical-align: top;\n",
       "    }\n",
       "\n",
       "    .dataframe thead th {\n",
       "        text-align: right;\n",
       "    }\n",
       "</style>\n",
       "<table border=\"1\" class=\"dataframe\">\n",
       "  <thead>\n",
       "    <tr style=\"text-align: right;\">\n",
       "      <th></th>\n",
       "      <th>Date</th>\n",
       "      <th>User</th>\n",
       "      <th>IsVerified</th>\n",
       "      <th>Tweet</th>\n",
       "      <th>Likes</th>\n",
       "      <th>RT</th>\n",
       "      <th>User_location</th>\n",
       "      <th>clean_tweet</th>\n",
       "      <th>Sentiment</th>\n",
       "    </tr>\n",
       "  </thead>\n",
       "  <tbody>\n",
       "    <tr>\n",
       "      <th>0</th>\n",
       "      <td>2022-12-23</td>\n",
       "      <td>Afloat</td>\n",
       "      <td>False</td>\n",
       "      <td>RT @AbhijitChavda: Someone tell our Israeli fr...</td>\n",
       "      <td>0</td>\n",
       "      <td>744</td>\n",
       "      <td>भूमध्य रेखा से दाएं</td>\n",
       "      <td>[someone, tell, israeli, friends, pakistan, ye...</td>\n",
       "      <td>Neutral</td>\n",
       "    </tr>\n",
       "    <tr>\n",
       "      <th>1</th>\n",
       "      <td>2022-12-23</td>\n",
       "      <td>M Zia Ul Qamar</td>\n",
       "      <td>False</td>\n",
       "      <td>RT @akbarnasirkhan: Another son of @ICT_Police...</td>\n",
       "      <td>0</td>\n",
       "      <td>72</td>\n",
       "      <td>Islamabad</td>\n",
       "      <td>[another, son, police, head, constable, adeel,...</td>\n",
       "      <td>Positive</td>\n",
       "    </tr>\n",
       "    <tr>\n",
       "      <th>2</th>\n",
       "      <td>2022-12-23</td>\n",
       "      <td>AMIR</td>\n",
       "      <td>False</td>\n",
       "      <td>Pakistan among the lowest ranked countries in ...</td>\n",
       "      <td>0</td>\n",
       "      <td>0</td>\n",
       "      <td></td>\n",
       "      <td>[pakistan, among, lowest, ranked, countries, a...</td>\n",
       "      <td>Neutral</td>\n",
       "    </tr>\n",
       "    <tr>\n",
       "      <th>3</th>\n",
       "      <td>2022-12-23</td>\n",
       "      <td>Hasnain khan</td>\n",
       "      <td>False</td>\n",
       "      <td>RT @JamiatPK: It has been 75 long years that I...</td>\n",
       "      <td>0</td>\n",
       "      <td>16</td>\n",
       "      <td>Peshawar, Pakistan</td>\n",
       "      <td>[long, years, islami, jamiat, talaba, pakistan...</td>\n",
       "      <td>Negative</td>\n",
       "    </tr>\n",
       "    <tr>\n",
       "      <th>4</th>\n",
       "      <td>2022-12-23</td>\n",
       "      <td>Abnt</td>\n",
       "      <td>False</td>\n",
       "      <td>RT @pakistan_untold: Pakistan was created on t...</td>\n",
       "      <td>0</td>\n",
       "      <td>707</td>\n",
       "      <td></td>\n",
       "      <td>[untold, pakistan, created, logic, muslim, maj...</td>\n",
       "      <td>Neutral</td>\n",
       "    </tr>\n",
       "    <tr>\n",
       "      <th>5</th>\n",
       "      <td>2022-12-23</td>\n",
       "      <td>OhYesThatGuy | Storyteller | Copywriter</td>\n",
       "      <td>False</td>\n",
       "      <td>@CSKFansOfficial @msdhoni Is this when he scor...</td>\n",
       "      <td>0</td>\n",
       "      <td>0</td>\n",
       "      <td>Dil Se(v) Indori❤️Baaki chhodo</td>\n",
       "      <td>[scored, pakistan]</td>\n",
       "      <td>Neutral</td>\n",
       "    </tr>\n",
       "    <tr>\n",
       "      <th>6</th>\n",
       "      <td>2022-12-23</td>\n",
       "      <td>𝙆ᴬ𝙇𝐢𝙈 𝙐𝙇𝙇ᴬ𝙃🇵🇰</td>\n",
       "      <td>False</td>\n",
       "      <td>RT @callme_Mahnooor: Global ratings agency S&amp;a...</td>\n",
       "      <td>0</td>\n",
       "      <td>29</td>\n",
       "      <td>🇵🇰GHQ🇵🇰</td>\n",
       "      <td>[mahnooor, global, ratings, agency, amp, globa...</td>\n",
       "      <td>Neutral</td>\n",
       "    </tr>\n",
       "    <tr>\n",
       "      <th>7</th>\n",
       "      <td>2022-12-23</td>\n",
       "      <td>Abbas Abbasi</td>\n",
       "      <td>False</td>\n",
       "      <td>RT @breeezofspring: There is a law of the jung...</td>\n",
       "      <td>0</td>\n",
       "      <td>1</td>\n",
       "      <td></td>\n",
       "      <td>[law, jungle, pakistan, thieves, sitting, helm...</td>\n",
       "      <td>Neutral</td>\n",
       "    </tr>\n",
       "    <tr>\n",
       "      <th>8</th>\n",
       "      <td>2022-12-23</td>\n",
       "      <td>Ahsan rajpoot</td>\n",
       "      <td>False</td>\n",
       "      <td>RT @kh_amir73: Pakistan secured Foreign Direct...</td>\n",
       "      <td>0</td>\n",
       "      <td>31</td>\n",
       "      <td>لاہور, پاکستان</td>\n",
       "      <td>[amir, pakistan, secured, foreign, direct, inv...</td>\n",
       "      <td>Positive</td>\n",
       "    </tr>\n",
       "    <tr>\n",
       "      <th>9</th>\n",
       "      <td>2022-12-23</td>\n",
       "      <td>Saleem Ahmed</td>\n",
       "      <td>False</td>\n",
       "      <td>RT @akbarnasirkhan: Another son of @ICT_Police...</td>\n",
       "      <td>0</td>\n",
       "      <td>72</td>\n",
       "      <td>Karachi, Pakistan</td>\n",
       "      <td>[another, son, police, head, constable, adeel,...</td>\n",
       "      <td>Positive</td>\n",
       "    </tr>\n",
       "    <tr>\n",
       "      <th>10</th>\n",
       "      <td>2022-12-23</td>\n",
       "      <td>sajid khan</td>\n",
       "      <td>False</td>\n",
       "      <td>RT @GulBano40: Heavy rain in Makkah and Madina...</td>\n",
       "      <td>0</td>\n",
       "      <td>7</td>\n",
       "      <td></td>\n",
       "      <td>[heavy, rain, makkah, madinah, december, welco...</td>\n",
       "      <td>Positive</td>\n",
       "    </tr>\n",
       "  </tbody>\n",
       "</table>\n",
       "</div>"
      ],
      "text/plain": [
       "          Date                                     User IsVerified  \\\n",
       "0   2022-12-23                                   Afloat      False   \n",
       "1   2022-12-23                           M Zia Ul Qamar      False   \n",
       "2   2022-12-23                                     AMIR      False   \n",
       "3   2022-12-23                             Hasnain khan      False   \n",
       "4   2022-12-23                                     Abnt      False   \n",
       "5   2022-12-23  OhYesThatGuy | Storyteller | Copywriter      False   \n",
       "6   2022-12-23                            𝙆ᴬ𝙇𝐢𝙈 𝙐𝙇𝙇ᴬ𝙃🇵🇰      False   \n",
       "7   2022-12-23                             Abbas Abbasi      False   \n",
       "8   2022-12-23                            Ahsan rajpoot      False   \n",
       "9   2022-12-23                             Saleem Ahmed      False   \n",
       "10  2022-12-23                               sajid khan      False   \n",
       "\n",
       "                                                Tweet Likes   RT  \\\n",
       "0   RT @AbhijitChavda: Someone tell our Israeli fr...     0  744   \n",
       "1   RT @akbarnasirkhan: Another son of @ICT_Police...     0   72   \n",
       "2   Pakistan among the lowest ranked countries in ...     0    0   \n",
       "3   RT @JamiatPK: It has been 75 long years that I...     0   16   \n",
       "4   RT @pakistan_untold: Pakistan was created on t...     0  707   \n",
       "5   @CSKFansOfficial @msdhoni Is this when he scor...     0    0   \n",
       "6   RT @callme_Mahnooor: Global ratings agency S&a...     0   29   \n",
       "7   RT @breeezofspring: There is a law of the jung...     0    1   \n",
       "8   RT @kh_amir73: Pakistan secured Foreign Direct...     0   31   \n",
       "9   RT @akbarnasirkhan: Another son of @ICT_Police...     0   72   \n",
       "10  RT @GulBano40: Heavy rain in Makkah and Madina...     0    7   \n",
       "\n",
       "                     User_location  \\\n",
       "0             भूमध्य रेखा से दाएं    \n",
       "1                        Islamabad   \n",
       "2                                    \n",
       "3              Peshawar, Pakistan    \n",
       "4                                    \n",
       "5   Dil Se(v) Indori❤️Baaki chhodo   \n",
       "6                          🇵🇰GHQ🇵🇰   \n",
       "7                                    \n",
       "8                   لاہور, پاکستان   \n",
       "9                Karachi, Pakistan   \n",
       "10                                   \n",
       "\n",
       "                                          clean_tweet Sentiment  \n",
       "0   [someone, tell, israeli, friends, pakistan, ye...   Neutral  \n",
       "1   [another, son, police, head, constable, adeel,...  Positive  \n",
       "2   [pakistan, among, lowest, ranked, countries, a...   Neutral  \n",
       "3   [long, years, islami, jamiat, talaba, pakistan...  Negative  \n",
       "4   [untold, pakistan, created, logic, muslim, maj...   Neutral  \n",
       "5                                  [scored, pakistan]   Neutral  \n",
       "6   [mahnooor, global, ratings, agency, amp, globa...   Neutral  \n",
       "7   [law, jungle, pakistan, thieves, sitting, helm...   Neutral  \n",
       "8   [amir, pakistan, secured, foreign, direct, inv...  Positive  \n",
       "9   [another, son, police, head, constable, adeel,...  Positive  \n",
       "10  [heavy, rain, makkah, madinah, december, welco...  Positive  "
      ]
     },
     "execution_count": 80,
     "metadata": {},
     "output_type": "execute_result"
    }
   ],
   "source": [
    "df[\"Sentiment\"] = df[\"Tweet\"].apply(lambda x : analyze_sentiment(x))\n",
    "df.head(11)\n"
   ]
  },
  {
   "cell_type": "code",
   "execution_count": 81,
   "metadata": {},
   "outputs": [
    {
     "name": "stdout",
     "output_type": "stream",
     "text": [
      "Original tweet:\n",
      " RT @JamiatPK: It has been 75 long years that Islami Jamiat e Talaba Pakistan is endeavoring to spread the message of Quran and Sunnah in th…\n",
      "\n",
      "Clean tweet:\n",
      " ['long', 'years', 'islami', 'jamiat', 'talaba', 'pakistan', 'endeavoring', 'spread', 'message', 'quran', 'sunnah']\n",
      "\n",
      "Sentiment of the tweet:\n",
      " Negative\n"
     ]
    }
   ],
   "source": [
    "\n",
    "\n",
    "# Check Summary of Random Record\n",
    "n = 3\n",
    "print(\"Original tweet:\\n\",df['Tweet'][n])\n",
    "print()\n",
    "print(\"Clean tweet:\\n\",df['clean_tweet'][n])\n",
    "print()\n",
    "print(\"Sentiment of the tweet:\\n\",df['Sentiment'][n])\n",
    "\n"
   ]
  },
  {
   "cell_type": "code",
   "execution_count": 82,
   "metadata": {},
   "outputs": [
    {
     "name": "stdout",
     "output_type": "stream",
     "text": [
      "Total Tweets Extracted for Topic : Pakistan are : 11\n",
      "Total Positive Tweets are : 4\n",
      "Total Negative Tweets are : 1\n",
      "Total Neutral Tweets are : 6\n"
     ]
    }
   ],
   "source": [
    "# Overall Summary\n",
    "\n",
    "print(\"Total Tweets Extracted for Topic : {} are : {}\".format(Topic,len(df.Tweet)))\n",
    "print(\"Total Positive Tweets are : {}\".format(len(df[df[\"Sentiment\"]==\"Positive\"])))\n",
    "print(\"Total Negative Tweets are : {}\".format(len(df[df[\"Sentiment\"]==\"Negative\"])))\n",
    "print(\"Total Neutral Tweets are : {}\".format(len(df[df[\"Sentiment\"]==\"Neutral\"])))\n"
   ]
  },
  {
   "cell_type": "code",
   "execution_count": 83,
   "metadata": {},
   "outputs": [
    {
     "data": {
      "text/plain": [
       "Neutral     6\n",
       "Positive    4\n",
       "Negative    1\n",
       "Name: Sentiment, dtype: int64"
      ]
     },
     "execution_count": 83,
     "metadata": {},
     "output_type": "execute_result"
    }
   ],
   "source": [
    "df[\"Sentiment\"].value_counts()"
   ]
  },
  {
   "cell_type": "code",
   "execution_count": 84,
   "metadata": {},
   "outputs": [
    {
     "data": {
      "text/plain": [
       "Text(0.5, 1.0, 'Summary of Counts for Total tweets')"
      ]
     },
     "execution_count": 84,
     "metadata": {},
     "output_type": "execute_result"
    },
    {
     "data": {
      "image/png": "[encoded data removed]",
      "text/plain": [
       "<Figure size 800x600 with 1 Axes>"
      ]
     },
     "metadata": {},
     "output_type": "display_data"
    }
   ],
   "source": [
    "#plotting the data in a pie chart according to the sentiment of the tweets\n",
    "plt.figure(figsize=(8,6))\n",
    "df.Sentiment.value_counts().plot(kind='pie', autopct='%1.0f%%')\n",
    "plt.title(\"Summary of Counts for Total tweets\")\n",
    "\n",
    "\n",
    "\n"
   ]
  },
  {
   "cell_type": "code",
   "execution_count": 85,
   "metadata": {},
   "outputs": [
    {
     "data": {
      "image/png": "[encoded data removed]",
      "text/plain": [
       "<Figure size 640x480 with 1 Axes>"
      ]
     },
     "metadata": {},
     "output_type": "display_data"
    }
   ],
   "source": [
    "\n",
    "\n",
    "\n",
    "# Piechart \n",
    "#string, used to label the wedges with their numeric value. The label will be placed inside the wedge. The format string will be fmt%pct.\n",
    "\n",
    "a=len(df[df[\"Sentiment\"]==\"Positive\"])\n",
    "b=len(df[df[\"Sentiment\"]==\"Negative\"])\n",
    "c=len(df[df[\"Sentiment\"]==\"Neutral\"])\n",
    "d=np.array([a,b,c])\n",
    "explode = (0.1, 0.0, 0.1)\n",
    "plt.pie(d,shadow=True,explode=explode,labels=[\"Positive\",\"Negative\",\"Neutral\"],autopct='%1.2f%%');\n",
    "\n"
   ]
  },
  {
   "cell_type": "code",
   "execution_count": 86,
   "metadata": {},
   "outputs": [
    {
     "ename": "ValueError",
     "evalue": "'explode' must be of length 'x'",
     "output_type": "error",
     "traceback": [
      "\u001b[0;31m---------------------------------------------------------------------------\u001b[0m",
      "\u001b[0;31mValueError\u001b[0m                                Traceback (most recent call last)",
      "Cell \u001b[0;32mIn [86], line 3\u001b[0m\n\u001b[1;32m      1\u001b[0m \u001b[39m#check if verified user has more tweets\u001b[39;00m\n\u001b[0;32m----> 3\u001b[0m df\u001b[39m.\u001b[39;49mgroupby(\u001b[39m\"\u001b[39;49m\u001b[39mIsVerified\u001b[39;49m\u001b[39m\"\u001b[39;49m)[\u001b[39m\"\u001b[39;49m\u001b[39mTweet\u001b[39;49m\u001b[39m\"\u001b[39;49m]\u001b[39m.\u001b[39;49mcount()\u001b[39m.\u001b[39;49mplot(kind\u001b[39m=\u001b[39;49m\u001b[39m\"\u001b[39;49m\u001b[39mpie\u001b[39;49m\u001b[39m\"\u001b[39;49m,shadow\u001b[39m=\u001b[39;49m\u001b[39mTrue\u001b[39;49;00m,explode\u001b[39m=\u001b[39;49m(\u001b[39m0.1\u001b[39;49m,\u001b[39m0.1\u001b[39;49m),autopct\u001b[39m=\u001b[39;49m\u001b[39m'\u001b[39;49m\u001b[39m%1.2f\u001b[39;49;00m\u001b[39m%%\u001b[39;49;00m\u001b[39m'\u001b[39;49m)\n\u001b[1;32m      4\u001b[0m plt\u001b[39m.\u001b[39mtitle(\u001b[39m\"\u001b[39m\u001b[39mVerified User vs Non Verified User\u001b[39m\u001b[39m\"\u001b[39m)\n",
      "File \u001b[0;32m~/.local/lib/python3.10/site-packages/pandas/plotting/_core.py:1000\u001b[0m, in \u001b[0;36mPlotAccessor.__call__\u001b[0;34m(self, *args, **kwargs)\u001b[0m\n\u001b[1;32m    997\u001b[0m             label_name \u001b[39m=\u001b[39m label_kw \u001b[39mor\u001b[39;00m data\u001b[39m.\u001b[39mcolumns\n\u001b[1;32m    998\u001b[0m             data\u001b[39m.\u001b[39mcolumns \u001b[39m=\u001b[39m label_name\n\u001b[0;32m-> 1000\u001b[0m \u001b[39mreturn\u001b[39;00m plot_backend\u001b[39m.\u001b[39;49mplot(data, kind\u001b[39m=\u001b[39;49mkind, \u001b[39m*\u001b[39;49m\u001b[39m*\u001b[39;49mkwargs)\n",
      "File \u001b[0;32m~/.local/lib/python3.10/site-packages/pandas/plotting/_matplotlib/__init__.py:71\u001b[0m, in \u001b[0;36mplot\u001b[0;34m(data, kind, **kwargs)\u001b[0m\n\u001b[1;32m     69\u001b[0m         kwargs[\u001b[39m\"\u001b[39m\u001b[39max\u001b[39m\u001b[39m\"\u001b[39m] \u001b[39m=\u001b[39m \u001b[39mgetattr\u001b[39m(ax, \u001b[39m\"\u001b[39m\u001b[39mleft_ax\u001b[39m\u001b[39m\"\u001b[39m, ax)\n\u001b[1;32m     70\u001b[0m plot_obj \u001b[39m=\u001b[39m PLOT_CLASSES[kind](data, \u001b[39m*\u001b[39m\u001b[39m*\u001b[39mkwargs)\n\u001b[0;32m---> 71\u001b[0m plot_obj\u001b[39m.\u001b[39;49mgenerate()\n\u001b[1;32m     72\u001b[0m plot_obj\u001b[39m.\u001b[39mdraw()\n\u001b[1;32m     73\u001b[0m \u001b[39mreturn\u001b[39;00m plot_obj\u001b[39m.\u001b[39mresult\n",
      "File \u001b[0;32m~/.local/lib/python3.10/site-packages/pandas/plotting/_matplotlib/core.py:452\u001b[0m, in \u001b[0;36mMPLPlot.generate\u001b[0;34m(self)\u001b[0m\n\u001b[1;32m    450\u001b[0m \u001b[39mself\u001b[39m\u001b[39m.\u001b[39m_compute_plot_data()\n\u001b[1;32m    451\u001b[0m \u001b[39mself\u001b[39m\u001b[39m.\u001b[39m_setup_subplots()\n\u001b[0;32m--> 452\u001b[0m \u001b[39mself\u001b[39;49m\u001b[39m.\u001b[39;49m_make_plot()\n\u001b[1;32m    453\u001b[0m \u001b[39mself\u001b[39m\u001b[39m.\u001b[39m_add_table()\n\u001b[1;32m    454\u001b[0m \u001b[39mself\u001b[39m\u001b[39m.\u001b[39m_make_legend()\n",
      "File \u001b[0;32m~/.local/lib/python3.10/site-packages/pandas/plotting/_matplotlib/core.py:1841\u001b[0m, in \u001b[0;36mPiePlot._make_plot\u001b[0;34m(self)\u001b[0m\n\u001b[1;32m   1839\u001b[0m \u001b[39melse\u001b[39;00m:\n\u001b[1;32m   1840\u001b[0m     blabels \u001b[39m=\u001b[39m \u001b[39mNone\u001b[39;00m\n\u001b[0;32m-> 1841\u001b[0m results \u001b[39m=\u001b[39m ax\u001b[39m.\u001b[39;49mpie(y, labels\u001b[39m=\u001b[39;49mblabels, \u001b[39m*\u001b[39;49m\u001b[39m*\u001b[39;49mkwds)\n\u001b[1;32m   1843\u001b[0m \u001b[39mif\u001b[39;00m kwds\u001b[39m.\u001b[39mget(\u001b[39m\"\u001b[39m\u001b[39mautopct\u001b[39m\u001b[39m\"\u001b[39m, \u001b[39mNone\u001b[39;00m) \u001b[39mis\u001b[39;00m \u001b[39mnot\u001b[39;00m \u001b[39mNone\u001b[39;00m:\n\u001b[1;32m   1844\u001b[0m     patches, texts, autotexts \u001b[39m=\u001b[39m results\n",
      "File \u001b[0;32m~/.local/lib/python3.10/site-packages/matplotlib/__init__.py:1423\u001b[0m, in \u001b[0;36m_preprocess_data.<locals>.inner\u001b[0;34m(ax, data, *args, **kwargs)\u001b[0m\n\u001b[1;32m   1420\u001b[0m \u001b[39m@functools\u001b[39m\u001b[39m.\u001b[39mwraps(func)\n\u001b[1;32m   1421\u001b[0m \u001b[39mdef\u001b[39;00m \u001b[39minner\u001b[39m(ax, \u001b[39m*\u001b[39margs, data\u001b[39m=\u001b[39m\u001b[39mNone\u001b[39;00m, \u001b[39m*\u001b[39m\u001b[39m*\u001b[39mkwargs):\n\u001b[1;32m   1422\u001b[0m     \u001b[39mif\u001b[39;00m data \u001b[39mis\u001b[39;00m \u001b[39mNone\u001b[39;00m:\n\u001b[0;32m-> 1423\u001b[0m         \u001b[39mreturn\u001b[39;00m func(ax, \u001b[39m*\u001b[39;49m\u001b[39mmap\u001b[39;49m(sanitize_sequence, args), \u001b[39m*\u001b[39;49m\u001b[39m*\u001b[39;49mkwargs)\n\u001b[1;32m   1425\u001b[0m     bound \u001b[39m=\u001b[39m new_sig\u001b[39m.\u001b[39mbind(ax, \u001b[39m*\u001b[39margs, \u001b[39m*\u001b[39m\u001b[39m*\u001b[39mkwargs)\n\u001b[1;32m   1426\u001b[0m     auto_label \u001b[39m=\u001b[39m (bound\u001b[39m.\u001b[39marguments\u001b[39m.\u001b[39mget(label_namer)\n\u001b[1;32m   1427\u001b[0m                   \u001b[39mor\u001b[39;00m bound\u001b[39m.\u001b[39mkwargs\u001b[39m.\u001b[39mget(label_namer))\n",
      "File \u001b[0;32m~/.local/lib/python3.10/site-packages/matplotlib/axes/_axes.py:3172\u001b[0m, in \u001b[0;36mAxes.pie\u001b[0;34m(self, x, explode, labels, colors, autopct, pctdistance, shadow, labeldistance, startangle, radius, counterclock, wedgeprops, textprops, center, frame, rotatelabels, normalize)\u001b[0m\n\u001b[1;32m   3170\u001b[0m     \u001b[39mraise\u001b[39;00m \u001b[39mValueError\u001b[39;00m(\u001b[39m\"\u001b[39m\u001b[39m'\u001b[39m\u001b[39mlabel\u001b[39m\u001b[39m'\u001b[39m\u001b[39m must be of length \u001b[39m\u001b[39m'\u001b[39m\u001b[39mx\u001b[39m\u001b[39m'\u001b[39m\u001b[39m\"\u001b[39m)\n\u001b[1;32m   3171\u001b[0m \u001b[39mif\u001b[39;00m \u001b[39mlen\u001b[39m(x) \u001b[39m!=\u001b[39m \u001b[39mlen\u001b[39m(explode):\n\u001b[0;32m-> 3172\u001b[0m     \u001b[39mraise\u001b[39;00m \u001b[39mValueError\u001b[39;00m(\u001b[39m\"\u001b[39m\u001b[39m'\u001b[39m\u001b[39mexplode\u001b[39m\u001b[39m'\u001b[39m\u001b[39m must be of length \u001b[39m\u001b[39m'\u001b[39m\u001b[39mx\u001b[39m\u001b[39m'\u001b[39m\u001b[39m\"\u001b[39m)\n\u001b[1;32m   3173\u001b[0m \u001b[39mif\u001b[39;00m colors \u001b[39mis\u001b[39;00m \u001b[39mNone\u001b[39;00m:\n\u001b[1;32m   3174\u001b[0m     get_next_color \u001b[39m=\u001b[39m \u001b[39mself\u001b[39m\u001b[39m.\u001b[39m_get_patches_for_fill\u001b[39m.\u001b[39mget_next_color\n",
      "\u001b[0;31mValueError\u001b[0m: 'explode' must be of length 'x'"
     ]
    },
    {
     "data": {
      "image/png": "[encoded data removed]",
      "text/plain": [
       "<Figure size 640x480 with 1 Axes>"
      ]
     },
     "metadata": {},
     "output_type": "display_data"
    }
   ],
   "source": [
    "#check if verified user has more tweets\n",
    "\n",
    "df.groupby(\"IsVerified\")[\"Tweet\"].count().plot(kind=\"pie\",shadow=True,explode=(0.1,0.1),autopct='%1.2f%%')\n",
    "plt.title(\"Verified User vs Non Verified User\")\n",
    "\n",
    "\n"
   ]
  }
 ],
 "metadata": {
  "kernelspec": {
   "display_name": "Python 3 (ipykernel)",
   "language": "python",
   "name": "python3"
  },
  "language_info": {
   "codemirror_mode": {
    "name": "ipython",
    "version": 3
   },
   "file_extension": ".py",
   "mimetype": "text/x-python",
   "name": "python",
   "nbconvert_exporter": "python",
   "pygments_lexer": "ipython3",
   "version": "3.10.6"
  },
  "vscode": {
   "interpreter": {
    "hash": "916dbcbb3f70747c44a77c7bcd40155683ae19c65e1c03b4aa3499c5328201f1"
   }
  }
 },
 "nbformat": 4,
 "nbformat_minor": 2
}
