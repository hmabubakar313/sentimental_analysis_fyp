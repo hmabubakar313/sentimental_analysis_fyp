{
 "cells": [
  {
   "cell_type": "markdown",
   "metadata": {},
   "source": []
  },
  {
   "cell_type": "markdown",
   "metadata": {},
   "source": [
    "### This is the jupyter notebook for sentiment analysis of the tweets using the Twitter API\n",
    "### FYP project\n",
    "### Author: Muhammad Abu Bakar\n",
    "### Author: Muhammad Faiz Hassan\n"
   ]
  },
  {
   "cell_type": "code",
   "execution_count": 21,
   "metadata": {
    "scrolled": true
   },
   "outputs": [],
   "source": [
    "# 1. Import Libraries\n",
    "\n",
    "import pandas as pd\n",
    "import numpy as np\n",
    "import matplotlib.pyplot as plt\n",
    "import seaborn as sns\n",
    "import tweepy\n",
    "from tweepy import OAuthHandler\n"
   ]
  },
  {
   "cell_type": "code",
   "execution_count": 22,
   "metadata": {
    "scrolled": true
   },
   "outputs": [
    {
     "name": "stdout",
     "output_type": "stream",
     "text": [
      "<tweepy.api.API object at 0x7f8887f15d20>\n"
     ]
    }
   ],
   "source": [
    "# import keys\n",
    "\n",
    "# keys.access_key()\n",
    "# configured api's with consumer k\n",
    "\n",
    "# Use the above credentials to authenticate the API.\n",
    "\n",
    "# get keys form keys.py\n",
    "# consumer_key, consumer_key_secret, access_token, access_token_secret = keys.access_key()\n",
    "auth = tweepy.OAuthHandler( consumer_key , consumer_key_secret )\n",
    "auth.set_access_token( access_token , access_token_secret )\n",
    "api = tweepy.API(auth)\n",
    "\n",
    "print(api)\n"
   ]
  },
  {
   "cell_type": "code",
   "execution_count": 23,
   "metadata": {},
   "outputs": [
    {
     "name": "stdout",
     "output_type": "stream",
     "text": [
      "Empty DataFrame\n",
      "Columns: [Date, User, IsVerified, Tweet, Likes, RT, User_location]\n",
      "Index: []\n"
     ]
    }
   ],
   "source": [
    "# 3.To get the tweets in a Proper format, first lets create a Dataframe to store the extracted data.\n",
    "\n",
    "df = pd.DataFrame(columns=[\"Date\",\"User\",\"IsVerified\",\"Tweet\",\"Likes\",\"RT\",'User_location'])\n",
    "\n",
    "# df['date'] = df['date'].apply(lambda a: pd.to_datetime(a).date())\n",
    "# df['date'] = pd.to_datetime(df['date'])\n",
    "# df.dtypes\n",
    "# df['date'] = df['date'].dt.tz_localize(None)\n",
    "print(df)\n",
    "\n"
   ]
  },
  {
   "cell_type": "markdown",
   "metadata": {},
   "source": [
    "## We will use api as api.search inside this tweepy cursor.\n"
   ]
  },
  {
   "cell_type": "code",
   "execution_count": 24,
   "metadata": {},
   "outputs": [
    {
     "name": "stderr",
     "output_type": "stream",
     "text": [
      "Unexpected parameter: exclude\n"
     ]
    },
    {
     "name": "stdout",
     "output_type": "stream",
     "text": [
      "82\r"
     ]
    },
    {
     "name": "stderr",
     "output_type": "stream",
     "text": [
      "Unexpected parameter: exclude\n"
     ]
    },
    {
     "name": "stdout",
     "output_type": "stream",
     "text": [
      "100\r"
     ]
    }
   ],
   "source": [
    "# 4.Write a Function to extract tweets:\n",
    "\n",
    "# We will Use **tweepy.cursor()** because we want to extract a larger number of tweets i.e over 100,500 etc\n",
    "\n",
    "\n",
    "\n",
    "\n",
    "def get_tweets(Topic,Count):    \n",
    "    i=0\n",
    "    for tweet in tweepy.Cursor(api.search_tweets, q=Topic,count=100, lang=\"en\").items():\n",
    "        print(i, end='\\r')\n",
    "        date=tweet.created_at\n",
    "        df.loc[i,\"Date\"] = date.strftime(\"%Y-%m-%d\")\n",
    "        df.loc[i,\"User\"] = tweet.user.name\n",
    "        df.loc[i,\"IsVerified\"] = tweet.user.verified\n",
    "        df.loc[i,\"Tweet\"] = tweet.text\n",
    "        df.loc[i,\"Likes\"] = tweet.favorite_count\n",
    "        df.loc[i,\"RT\"] = tweet.retweet_count\n",
    "        df.loc[i,\"User_location\"] = tweet.user.location\n",
    "        #df.to_csv(\"TweetDataset.csv\",index=False)\n",
    "        df.to_excel('{}.xlsx'.format(\"TweetDataset\"),index=False)   ## Save as Excel\n",
    "        i=i+1\n",
    "        if i>Count:\n",
    "            break\n",
    "        else:\n",
    "            pass\n",
    "\n",
    "# take input from user\n",
    "Topic = \"Elon Musk\"\n",
    "# Topic=[\"Pakistan\"]\n",
    "get_tweets(Topic , Count=100)"
   ]
  },
  {
   "cell_type": "code",
   "execution_count": 25,
   "metadata": {},
   "outputs": [
    {
     "data": {
      "text/html": [
       "<div>\n",
       "<style scoped>\n",
       "    .dataframe tbody tr th:only-of-type {\n",
       "        vertical-align: middle;\n",
       "    }\n",
       "\n",
       "    .dataframe tbody tr th {\n",
       "        vertical-align: top;\n",
       "    }\n",
       "\n",
       "    .dataframe thead th {\n",
       "        text-align: right;\n",
       "    }\n",
       "</style>\n",
       "<table border=\"1\" class=\"dataframe\">\n",
       "  <thead>\n",
       "    <tr style=\"text-align: right;\">\n",
       "      <th></th>\n",
       "      <th>Date</th>\n",
       "      <th>User</th>\n",
       "      <th>IsVerified</th>\n",
       "      <th>Tweet</th>\n",
       "      <th>Likes</th>\n",
       "      <th>RT</th>\n",
       "      <th>User_location</th>\n",
       "    </tr>\n",
       "  </thead>\n",
       "  <tbody>\n",
       "    <tr>\n",
       "      <th>0</th>\n",
       "      <td>2022-12-01</td>\n",
       "      <td>@SapientJim45 = JfT ✝️🇺🇸 Welcome Followers‼️</td>\n",
       "      <td>False</td>\n",
       "      <td>WOW 👉🏿 .@elonmusk is being  Applauded Massivel...</td>\n",
       "      <td>0</td>\n",
       "      <td>0</td>\n",
       "      <td></td>\n",
       "    </tr>\n",
       "    <tr>\n",
       "      <th>1</th>\n",
       "      <td>2022-12-01</td>\n",
       "      <td>Dante Cantalini</td>\n",
       "      <td>False</td>\n",
       "      <td>Elon Musk 'confident' in Neuralink microchip d...</td>\n",
       "      <td>0</td>\n",
       "      <td>0</td>\n",
       "      <td></td>\n",
       "    </tr>\n",
       "    <tr>\n",
       "      <th>2</th>\n",
       "      <td>2022-12-01</td>\n",
       "      <td>Tamara L Ernst</td>\n",
       "      <td>False</td>\n",
       "      <td>Elon Musk’s Job Cuts Decimated Twitter Team Ta...</td>\n",
       "      <td>0</td>\n",
       "      <td>0</td>\n",
       "      <td>Munich, Bavaria</td>\n",
       "    </tr>\n",
       "    <tr>\n",
       "      <th>3</th>\n",
       "      <td>2022-12-01</td>\n",
       "      <td>Crissie Schueler</td>\n",
       "      <td>False</td>\n",
       "      <td>@MattWallace888 Or for Elon Musk.</td>\n",
       "      <td>0</td>\n",
       "      <td>0</td>\n",
       "      <td>Germany, Brazil, Bahrain, Alaska</td>\n",
       "    </tr>\n",
       "    <tr>\n",
       "      <th>4</th>\n",
       "      <td>2022-12-01</td>\n",
       "      <td>Breakfast Nook Wolf</td>\n",
       "      <td>False</td>\n",
       "      <td>How to run a successful business like Elon Mus...</td>\n",
       "      <td>0</td>\n",
       "      <td>0</td>\n",
       "      <td>I dunno</td>\n",
       "    </tr>\n",
       "    <tr>\n",
       "      <th>5</th>\n",
       "      <td>2022-12-01</td>\n",
       "      <td>watchamacallit</td>\n",
       "      <td>False</td>\n",
       "      <td>@DineshDSouza I don’t think the President real...</td>\n",
       "      <td>0</td>\n",
       "      <td>0</td>\n",
       "      <td></td>\n",
       "    </tr>\n",
       "    <tr>\n",
       "      <th>6</th>\n",
       "      <td>2022-12-01</td>\n",
       "      <td>Chainparrot</td>\n",
       "      <td>False</td>\n",
       "      <td>EU Chief Fires Another Warning Shot at Elon Mu...</td>\n",
       "      <td>0</td>\n",
       "      <td>0</td>\n",
       "      <td>Some trees</td>\n",
       "    </tr>\n",
       "    <tr>\n",
       "      <th>7</th>\n",
       "      <td>2022-12-01</td>\n",
       "      <td>ON.marketing: SEO &amp; Performance Advertising Ag...</td>\n",
       "      <td>False</td>\n",
       "      <td>Elon Musk personally called CEOs of companies ...</td>\n",
       "      <td>0</td>\n",
       "      <td>1</td>\n",
       "      <td>Greece</td>\n",
       "    </tr>\n",
       "  </tbody>\n",
       "</table>\n",
       "</div>"
      ],
      "text/plain": [
       "         Date                                               User IsVerified  \\\n",
       "0  2022-12-01       @SapientJim45 = JfT ✝️🇺🇸 Welcome Followers‼️      False   \n",
       "1  2022-12-01                                    Dante Cantalini      False   \n",
       "2  2022-12-01                                     Tamara L Ernst      False   \n",
       "3  2022-12-01                                   Crissie Schueler      False   \n",
       "4  2022-12-01                                Breakfast Nook Wolf      False   \n",
       "5  2022-12-01                                     watchamacallit      False   \n",
       "6  2022-12-01                                        Chainparrot      False   \n",
       "7  2022-12-01  ON.marketing: SEO & Performance Advertising Ag...      False   \n",
       "\n",
       "                                               Tweet Likes RT  \\\n",
       "0  WOW 👉🏿 .@elonmusk is being  Applauded Massivel...     0  0   \n",
       "1  Elon Musk 'confident' in Neuralink microchip d...     0  0   \n",
       "2  Elon Musk’s Job Cuts Decimated Twitter Team Ta...     0  0   \n",
       "3                  @MattWallace888 Or for Elon Musk.     0  0   \n",
       "4  How to run a successful business like Elon Mus...     0  0   \n",
       "5  @DineshDSouza I don’t think the President real...     0  0   \n",
       "6  EU Chief Fires Another Warning Shot at Elon Mu...     0  0   \n",
       "7  Elon Musk personally called CEOs of companies ...     0  1   \n",
       "\n",
       "                      User_location  \n",
       "0                                    \n",
       "1                                    \n",
       "2                   Munich, Bavaria  \n",
       "3  Germany, Brazil, Bahrain, Alaska  \n",
       "4                           I dunno  \n",
       "5                                    \n",
       "6                        Some trees  \n",
       "7                            Greece  "
      ]
     },
     "execution_count": 25,
     "metadata": {},
     "output_type": "execute_result"
    }
   ],
   "source": [
    "# Showing the data the Data\n",
    "df.head(8)"
   ]
  },
  {
   "cell_type": "code",
   "execution_count": 26,
   "metadata": {},
   "outputs": [],
   "source": [
    "# Function to Clean the Tweet.\n",
    "\n",
    "import re\n",
    "def clean_tweet(tweet):\n",
    "    return ' '.join(re.sub('(@[A-Za-z0-9]+)|([^0-9A-Za-z \\t])|(\\w+:\\/\\/\\S+)|([RT])', ' ', str(tweet).lower()).split())\n",
    "\n",
    "# We only want the Text so :\n",
    "\n",
    "# (@[A-Za-z0-9]+)   : Delete Anything like @hello @Letsupgrade etc\n",
    "# ([^0-9A-Za-z \\t]) : Delete everything other than text,number,space,tabspace\n",
    "# (\\w+:\\/\\/\\S+)     : Delete https://\n",
    "# ([RT]) : Remove \"RT\" from the tweet"
   ]
  },
  {
   "cell_type": "code",
   "execution_count": 27,
   "metadata": {},
   "outputs": [],
   "source": [
    "from textblob import TextBlob\n",
    "def analyze_sentiment(tweet):\n",
    "    analysis = TextBlob(tweet)\n",
    "    if analysis.sentiment.polarity > 0:\n",
    "        return 'Positive'\n",
    "    elif analysis.sentiment.polarity == 0:\n",
    "        return 'Neutral'\n",
    "    else:\n",
    "        return 'Negative'\n"
   ]
  },
  {
   "cell_type": "code",
   "execution_count": 28,
   "metadata": {},
   "outputs": [],
   "source": [
    "\n",
    "\n",
    "#Function to Pre-process data for Worlcloud:here we are removing the words present in Topic from the Corpus so they dont come in WordCloud.\n",
    "# Ex : Topic is \"Arsenal vs United\", we want to remove \"Arsenal\" \"vs\" \"United\" from the WordCloud.\n",
    "\n",
    "def prepCloud(Topic_text,Topic):\n",
    "    Topic = str(Topic).lower()\n",
    "    Topic=' '.join(re.sub('([^0-9A-Za-z \\t])', ' ', Topic).split())\n",
    "    Topic = re.split(\"\\s+\",str(Topic))\n",
    "    stopwords = set(STOPWORDS)\n",
    "    stopwords.update(Topic) ### Add our topic in Stopwords, so it doesnt appear in wordClous\n",
    "    ###\n",
    "    text_new = \" \".join([txt for txt in Topic_text.split() if txt not in stopwords])\n",
    "    return text_new\n",
    "\n"
   ]
  },
  {
   "cell_type": "code",
   "execution_count": 29,
   "metadata": {},
   "outputs": [
    {
     "data": {
      "text/html": [
       "<div>\n",
       "<style scoped>\n",
       "    .dataframe tbody tr th:only-of-type {\n",
       "        vertical-align: middle;\n",
       "    }\n",
       "\n",
       "    .dataframe tbody tr th {\n",
       "        vertical-align: top;\n",
       "    }\n",
       "\n",
       "    .dataframe thead th {\n",
       "        text-align: right;\n",
       "    }\n",
       "</style>\n",
       "<table border=\"1\" class=\"dataframe\">\n",
       "  <thead>\n",
       "    <tr style=\"text-align: right;\">\n",
       "      <th></th>\n",
       "      <th>Date</th>\n",
       "      <th>User</th>\n",
       "      <th>IsVerified</th>\n",
       "      <th>Tweet</th>\n",
       "      <th>Likes</th>\n",
       "      <th>RT</th>\n",
       "      <th>User_location</th>\n",
       "      <th>clean_tweet</th>\n",
       "    </tr>\n",
       "  </thead>\n",
       "  <tbody>\n",
       "    <tr>\n",
       "      <th>0</th>\n",
       "      <td>2022-12-01</td>\n",
       "      <td>@SapientJim45 = JfT ✝️🇺🇸 Welcome Followers‼️</td>\n",
       "      <td>False</td>\n",
       "      <td>WOW 👉🏿 .@elonmusk is being  Applauded Massivel...</td>\n",
       "      <td>0</td>\n",
       "      <td>0</td>\n",
       "      <td></td>\n",
       "      <td>wow is being applauded massively on on fox bus...</td>\n",
       "    </tr>\n",
       "    <tr>\n",
       "      <th>1</th>\n",
       "      <td>2022-12-01</td>\n",
       "      <td>Dante Cantalini</td>\n",
       "      <td>False</td>\n",
       "      <td>Elon Musk 'confident' in Neuralink microchip d...</td>\n",
       "      <td>0</td>\n",
       "      <td>0</td>\n",
       "      <td></td>\n",
       "      <td>elon musk confident in neuralink microchip dev...</td>\n",
       "    </tr>\n",
       "    <tr>\n",
       "      <th>2</th>\n",
       "      <td>2022-12-01</td>\n",
       "      <td>Tamara L Ernst</td>\n",
       "      <td>False</td>\n",
       "      <td>Elon Musk’s Job Cuts Decimated Twitter Team Ta...</td>\n",
       "      <td>0</td>\n",
       "      <td>0</td>\n",
       "      <td>Munich, Bavaria</td>\n",
       "      <td>elon musk s job cuts decimated twitter team ta...</td>\n",
       "    </tr>\n",
       "    <tr>\n",
       "      <th>3</th>\n",
       "      <td>2022-12-01</td>\n",
       "      <td>Crissie Schueler</td>\n",
       "      <td>False</td>\n",
       "      <td>@MattWallace888 Or for Elon Musk.</td>\n",
       "      <td>0</td>\n",
       "      <td>0</td>\n",
       "      <td>Germany, Brazil, Bahrain, Alaska</td>\n",
       "      <td>or for elon musk</td>\n",
       "    </tr>\n",
       "    <tr>\n",
       "      <th>4</th>\n",
       "      <td>2022-12-01</td>\n",
       "      <td>Breakfast Nook Wolf</td>\n",
       "      <td>False</td>\n",
       "      <td>How to run a successful business like Elon Mus...</td>\n",
       "      <td>0</td>\n",
       "      <td>0</td>\n",
       "      <td>I dunno</td>\n",
       "      <td>how to run a successful business like elon mus...</td>\n",
       "    </tr>\n",
       "  </tbody>\n",
       "</table>\n",
       "</div>"
      ],
      "text/plain": [
       "         Date                                          User IsVerified  \\\n",
       "0  2022-12-01  @SapientJim45 = JfT ✝️🇺🇸 Welcome Followers‼️      False   \n",
       "1  2022-12-01                               Dante Cantalini      False   \n",
       "2  2022-12-01                                Tamara L Ernst      False   \n",
       "3  2022-12-01                              Crissie Schueler      False   \n",
       "4  2022-12-01                           Breakfast Nook Wolf      False   \n",
       "\n",
       "                                               Tweet Likes RT  \\\n",
       "0  WOW 👉🏿 .@elonmusk is being  Applauded Massivel...     0  0   \n",
       "1  Elon Musk 'confident' in Neuralink microchip d...     0  0   \n",
       "2  Elon Musk’s Job Cuts Decimated Twitter Team Ta...     0  0   \n",
       "3                  @MattWallace888 Or for Elon Musk.     0  0   \n",
       "4  How to run a successful business like Elon Mus...     0  0   \n",
       "\n",
       "                      User_location  \\\n",
       "0                                     \n",
       "1                                     \n",
       "2                   Munich, Bavaria   \n",
       "3  Germany, Brazil, Bahrain, Alaska   \n",
       "4                           I dunno   \n",
       "\n",
       "                                         clean_tweet  \n",
       "0  wow is being applauded massively on on fox bus...  \n",
       "1  elon musk confident in neuralink microchip dev...  \n",
       "2  elon musk s job cuts decimated twitter team ta...  \n",
       "3                                   or for elon musk  \n",
       "4  how to run a successful business like elon mus...  "
      ]
     },
     "execution_count": 29,
     "metadata": {},
     "output_type": "execute_result"
    }
   ],
   "source": [
    "df['clean_tweet'] = df['Tweet'].apply(lambda x : clean_tweet(x))\n",
    "df.head(5)"
   ]
  },
  {
   "cell_type": "code",
   "execution_count": 30,
   "metadata": {},
   "outputs": [
    {
     "data": {
      "text/html": [
       "<div>\n",
       "<style scoped>\n",
       "    .dataframe tbody tr th:only-of-type {\n",
       "        vertical-align: middle;\n",
       "    }\n",
       "\n",
       "    .dataframe tbody tr th {\n",
       "        vertical-align: top;\n",
       "    }\n",
       "\n",
       "    .dataframe thead th {\n",
       "        text-align: right;\n",
       "    }\n",
       "</style>\n",
       "<table border=\"1\" class=\"dataframe\">\n",
       "  <thead>\n",
       "    <tr style=\"text-align: right;\">\n",
       "      <th></th>\n",
       "      <th>Date</th>\n",
       "      <th>User</th>\n",
       "      <th>IsVerified</th>\n",
       "      <th>Tweet</th>\n",
       "      <th>Likes</th>\n",
       "      <th>RT</th>\n",
       "      <th>User_location</th>\n",
       "      <th>clean_tweet</th>\n",
       "      <th>Sentiment</th>\n",
       "    </tr>\n",
       "  </thead>\n",
       "  <tbody>\n",
       "    <tr>\n",
       "      <th>0</th>\n",
       "      <td>2022-12-01</td>\n",
       "      <td>@SapientJim45 = JfT ✝️🇺🇸 Welcome Followers‼️</td>\n",
       "      <td>False</td>\n",
       "      <td>WOW 👉🏿 .@elonmusk is being  Applauded Massivel...</td>\n",
       "      <td>0</td>\n",
       "      <td>0</td>\n",
       "      <td></td>\n",
       "      <td>wow is being applauded massively on on fox bus...</td>\n",
       "      <td>Positive</td>\n",
       "    </tr>\n",
       "    <tr>\n",
       "      <th>1</th>\n",
       "      <td>2022-12-01</td>\n",
       "      <td>Dante Cantalini</td>\n",
       "      <td>False</td>\n",
       "      <td>Elon Musk 'confident' in Neuralink microchip d...</td>\n",
       "      <td>0</td>\n",
       "      <td>0</td>\n",
       "      <td></td>\n",
       "      <td>elon musk confident in neuralink microchip dev...</td>\n",
       "      <td>Positive</td>\n",
       "    </tr>\n",
       "    <tr>\n",
       "      <th>2</th>\n",
       "      <td>2022-12-01</td>\n",
       "      <td>Tamara L Ernst</td>\n",
       "      <td>False</td>\n",
       "      <td>Elon Musk’s Job Cuts Decimated Twitter Team Ta...</td>\n",
       "      <td>0</td>\n",
       "      <td>0</td>\n",
       "      <td>Munich, Bavaria</td>\n",
       "      <td>elon musk s job cuts decimated twitter team ta...</td>\n",
       "      <td>Positive</td>\n",
       "    </tr>\n",
       "    <tr>\n",
       "      <th>3</th>\n",
       "      <td>2022-12-01</td>\n",
       "      <td>Crissie Schueler</td>\n",
       "      <td>False</td>\n",
       "      <td>@MattWallace888 Or for Elon Musk.</td>\n",
       "      <td>0</td>\n",
       "      <td>0</td>\n",
       "      <td>Germany, Brazil, Bahrain, Alaska</td>\n",
       "      <td>or for elon musk</td>\n",
       "      <td>Neutral</td>\n",
       "    </tr>\n",
       "    <tr>\n",
       "      <th>4</th>\n",
       "      <td>2022-12-01</td>\n",
       "      <td>Breakfast Nook Wolf</td>\n",
       "      <td>False</td>\n",
       "      <td>How to run a successful business like Elon Mus...</td>\n",
       "      <td>0</td>\n",
       "      <td>0</td>\n",
       "      <td>I dunno</td>\n",
       "      <td>how to run a successful business like elon mus...</td>\n",
       "      <td>Positive</td>\n",
       "    </tr>\n",
       "  </tbody>\n",
       "</table>\n",
       "</div>"
      ],
      "text/plain": [
       "         Date                                          User IsVerified  \\\n",
       "0  2022-12-01  @SapientJim45 = JfT ✝️🇺🇸 Welcome Followers‼️      False   \n",
       "1  2022-12-01                               Dante Cantalini      False   \n",
       "2  2022-12-01                                Tamara L Ernst      False   \n",
       "3  2022-12-01                              Crissie Schueler      False   \n",
       "4  2022-12-01                           Breakfast Nook Wolf      False   \n",
       "\n",
       "                                               Tweet Likes RT  \\\n",
       "0  WOW 👉🏿 .@elonmusk is being  Applauded Massivel...     0  0   \n",
       "1  Elon Musk 'confident' in Neuralink microchip d...     0  0   \n",
       "2  Elon Musk’s Job Cuts Decimated Twitter Team Ta...     0  0   \n",
       "3                  @MattWallace888 Or for Elon Musk.     0  0   \n",
       "4  How to run a successful business like Elon Mus...     0  0   \n",
       "\n",
       "                      User_location  \\\n",
       "0                                     \n",
       "1                                     \n",
       "2                   Munich, Bavaria   \n",
       "3  Germany, Brazil, Bahrain, Alaska   \n",
       "4                           I dunno   \n",
       "\n",
       "                                         clean_tweet Sentiment  \n",
       "0  wow is being applauded massively on on fox bus...  Positive  \n",
       "1  elon musk confident in neuralink microchip dev...  Positive  \n",
       "2  elon musk s job cuts decimated twitter team ta...  Positive  \n",
       "3                                   or for elon musk   Neutral  \n",
       "4  how to run a successful business like elon mus...  Positive  "
      ]
     },
     "execution_count": 30,
     "metadata": {},
     "output_type": "execute_result"
    }
   ],
   "source": [
    "df[\"Sentiment\"] = df[\"Tweet\"].apply(lambda x : analyze_sentiment(x))\n",
    "df.head(5)\n"
   ]
  },
  {
   "cell_type": "code",
   "execution_count": 31,
   "metadata": {},
   "outputs": [
    {
     "name": "stdout",
     "output_type": "stream",
     "text": [
      "Original tweet:\n",
      " Elon Musk is a big bed-wetting doody-head\n",
      "\n",
      "Clean tweet:\n",
      " elon musk is a big bed wetting doody head\n",
      "\n",
      "Sentiment of the tweet:\n",
      " Neutral\n"
     ]
    }
   ],
   "source": [
    "\n",
    "\n",
    "# Check Summary of Random Record\n",
    "n = 15\n",
    "print(\"Original tweet:\\n\",df['Tweet'][n])\n",
    "print()\n",
    "print(\"Clean tweet:\\n\",df['clean_tweet'][n])\n",
    "print()\n",
    "print(\"Sentiment of the tweet:\\n\",df['Sentiment'][n])\n",
    "\n"
   ]
  },
  {
   "cell_type": "code",
   "execution_count": 32,
   "metadata": {},
   "outputs": [
    {
     "name": "stdout",
     "output_type": "stream",
     "text": [
      "Total Tweets Extracted for Topic : Elon Musk are : 101\n",
      "Total Positive Tweets are : 33\n",
      "Total Negative Tweets are : 17\n",
      "Total Neutral Tweets are : 51\n"
     ]
    }
   ],
   "source": [
    "# Overall Summary\n",
    "\n",
    "print(\"Total Tweets Extracted for Topic : {} are : {}\".format(Topic,len(df.Tweet)))\n",
    "print(\"Total Positive Tweets are : {}\".format(len(df[df[\"Sentiment\"]==\"Positive\"])))\n",
    "print(\"Total Negative Tweets are : {}\".format(len(df[df[\"Sentiment\"]==\"Negative\"])))\n",
    "print(\"Total Neutral Tweets are : {}\".format(len(df[df[\"Sentiment\"]==\"Neutral\"])))\n"
   ]
  },
  {
   "cell_type": "code",
   "execution_count": 33,
   "metadata": {},
   "outputs": [
    {
     "data": {
      "text/plain": [
       "Neutral     51\n",
       "Positive    33\n",
       "Negative    17\n",
       "Name: Sentiment, dtype: int64"
      ]
     },
     "execution_count": 33,
     "metadata": {},
     "output_type": "execute_result"
    }
   ],
   "source": [
    "df[\"Sentiment\"].value_counts()"
   ]
  },
  {
   "cell_type": "code",
   "execution_count": 41,
   "metadata": {},
   "outputs": [
    {
     "data": {
      "text/plain": [
       "Text(0.5, 1.0, 'Summary of Counts for Total tweets')"
      ]
     },
     "execution_count": 41,
     "metadata": {},
     "output_type": "execute_result"
    },
    {
     "data": {
      "image/png": "[encoded data removed]",
      "text/plain": [
       "<Figure size 800x600 with 1 Axes>"
      ]
     },
     "metadata": {},
     "output_type": "display_data"
    }
   ],
   "source": [
    "#plotting the data in a pie chart according to the sentiment of the tweets\n",
    "plt.figure(figsize=(8,6))\n",
    "df.Sentiment.value_counts().plot(kind='pie', autopct='%1.0f%%')\n",
    "plt.title(\"Summary of Counts for Total tweets\")\n",
    "\n",
    "\n",
    "\n"
   ]
  },
  {
   "cell_type": "code",
   "execution_count": 42,
   "metadata": {},
   "outputs": [
    {
     "data": {
      "image/png": "[encoded data removed]",
      "text/plain": [
       "<Figure size 640x480 with 1 Axes>"
      ]
     },
     "metadata": {},
     "output_type": "display_data"
    }
   ],
   "source": [
    "\n",
    "\n",
    "\n",
    "# Piechart \n",
    "#string, used to label the wedges with their numeric value. The label will be placed inside the wedge. The format string will be fmt%pct.\n",
    "\n",
    "a=len(df[df[\"Sentiment\"]==\"Positive\"])\n",
    "b=len(df[df[\"Sentiment\"]==\"Negative\"])\n",
    "c=len(df[df[\"Sentiment\"]==\"Neutral\"])\n",
    "d=np.array([a,b,c])\n",
    "explode = (0.1, 0.0, 0.1)\n",
    "plt.pie(d,shadow=True,explode=explode,labels=[\"Positive\",\"Negative\",\"Neutral\"],autopct='%1.2f%%');\n",
    "\n"
   ]
  },
  {
   "cell_type": "code",
   "execution_count": 43,
   "metadata": {},
   "outputs": [
    {
     "data": {
      "text/plain": [
       "Text(0.5, 1.0, 'Verified User vs Non Verified User')"
      ]
     },
     "execution_count": 43,
     "metadata": {},
     "output_type": "execute_result"
    },
    {
     "data": {
      "image/png": "[encoded data removed]",
      "text/plain": [
       "<Figure size 640x480 with 1 Axes>"
      ]
     },
     "metadata": {},
     "output_type": "display_data"
    }
   ],
   "source": [
    "#check if verified user has more tweets\n",
    "\n",
    "df.groupby(\"IsVerified\")[\"Tweet\"].count().plot(kind=\"pie\",shadow=True,explode=(0.1,0.1),autopct='%1.2f%%')\n",
    "plt.title(\"Verified User vs Non Verified User\")\n",
    "\n",
    "\n"
   ]
  }
 ],
 "metadata": {
  "kernelspec": {
   "display_name": "Python 3.10.6 64-bit",
   "language": "python",
   "name": "python3"
  },
  "language_info": {
   "codemirror_mode": {
    "name": "ipython",
    "version": 3
   },
   "file_extension": ".py",
   "mimetype": "text/x-python",
   "name": "python",
   "nbconvert_exporter": "python",
   "pygments_lexer": "ipython3",
   "version": "3.10.6"
  },
  "vscode": {
   "interpreter": {
    "hash": "916dbcbb3f70747c44a77c7bcd40155683ae19c65e1c03b4aa3499c5328201f1"
   }
  }
 },
 "nbformat": 4,
 "nbformat_minor": 2
}
