{
 "cells": [
  {
   "cell_type": "markdown",
   "metadata": {},
   "source": []
  },
  {
   "cell_type": "markdown",
   "metadata": {},
   "source": [
    "### This is the jupyter notebook for sentiment analysis of the tweets using the Twitter API\n",
    "### FYP project\n",
    "### Author: Muhammad Abu Bakar\n",
    "### Author: Muhammad Faiz Hassan\n"
   ]
  },
  {
   "cell_type": "code",
   "execution_count": 85,
   "metadata": {
    "scrolled": true
   },
   "outputs": [],
   "source": [
    "# 1. Import Libraries\n",
    "\n",
    "import pandas as pd\n",
    "import numpy as np\n",
    "import matplotlib.pyplot as plt\n",
    "import seaborn as sns\n",
    "import tweepy\n",
    "from tweepy import OAuthHandler\n"
   ]
  },
  {
   "cell_type": "code",
   "execution_count": 86,
   "metadata": {
    "scrolled": true
   },
   "outputs": [
    {
     "name": "stdout",
     "output_type": "stream",
     "text": [
      "<tweepy.api.API object at 0x0000015DFD141880>\n"
     ]
    }
   ],
   "source": [
    "consumer_key = \"gxoci9hQ7adNawtYj4r5J459y\"\n",
    "consumer_secret = \"Vn1HMAVwH7Bl3MZXlwGA5kaCOFvs9ZOJ4b3Wg1JRSapU2kbA4G\"\n",
    "access_token = \"930155901666971648-lrpZsfrmdQQihbTLUZKs6pASEdNS5ek\"\n",
    "access_token_secret = \"sjiascsBPd8UBkqPNPUYbaL0RoLxnD9gikEmmRGEusftr\"\n",
    "\n",
    "# configured api's with consumer k\n",
    "\n",
    "# Use the above credentials to authenticate the API.\n",
    "\n",
    "auth = tweepy.OAuthHandler( consumer_key , consumer_secret )\n",
    "auth.set_access_token( access_token , access_token_secret )\n",
    "api = tweepy.API(auth)\n",
    "print(api)"
   ]
  },
  {
   "cell_type": "code",
   "execution_count": 94,
   "metadata": {},
   "outputs": [
    {
     "ename": "TypeError",
     "evalue": "__init__() got an unexpected keyword argument 'axis'",
     "output_type": "error",
     "traceback": [
      "\u001b[1;31m---------------------------------------------------------------------------\u001b[0m",
      "\u001b[1;31mTypeError\u001b[0m                                 Traceback (most recent call last)",
      "\u001b[1;32m~\\AppData\\Local\\Temp\\ipykernel_20788\\978176266.py\u001b[0m in \u001b[0;36m<module>\u001b[1;34m\u001b[0m\n\u001b[0;32m      1\u001b[0m \u001b[1;31m# 3.To get the tweets in a Proper format, first lets create a Dataframe to store the extracted data.\u001b[0m\u001b[1;33m\u001b[0m\u001b[1;33m\u001b[0m\u001b[0m\n\u001b[0;32m      2\u001b[0m \u001b[1;33m\u001b[0m\u001b[0m\n\u001b[1;32m----> 3\u001b[1;33m \u001b[0mdf\u001b[0m \u001b[1;33m=\u001b[0m \u001b[0mpd\u001b[0m\u001b[1;33m.\u001b[0m\u001b[0mDataFrame\u001b[0m\u001b[1;33m(\u001b[0m\u001b[0mcolumns\u001b[0m\u001b[1;33m=\u001b[0m\u001b[1;33m[\u001b[0m\u001b[1;34m\"date\"\u001b[0m\u001b[1;33m,\u001b[0m\u001b[1;34m\"User\"\u001b[0m\u001b[1;33m,\u001b[0m\u001b[1;34m\"IsVerified\"\u001b[0m\u001b[1;33m,\u001b[0m\u001b[1;34m\"Tweet\"\u001b[0m\u001b[1;33m,\u001b[0m\u001b[1;34m\"Likes\"\u001b[0m\u001b[1;33m,\u001b[0m\u001b[1;34m\"RT\"\u001b[0m\u001b[1;33m,\u001b[0m\u001b[1;34m'User_location'\u001b[0m\u001b[1;33m]\u001b[0m\u001b[1;33m,\u001b[0m\u001b[0maxis\u001b[0m\u001b[1;33m=\u001b[0m\u001b[1;36m1\u001b[0m\u001b[1;33m)\u001b[0m\u001b[1;33m\u001b[0m\u001b[1;33m\u001b[0m\u001b[0m\n\u001b[0m\u001b[0;32m      4\u001b[0m \u001b[1;33m\u001b[0m\u001b[0m\n\u001b[0;32m      5\u001b[0m \u001b[1;31m# df['date'] = df['date'].apply(lambda a: pd.to_datetime(a).date())\u001b[0m\u001b[1;33m\u001b[0m\u001b[1;33m\u001b[0m\u001b[0m\n",
      "\u001b[1;31mTypeError\u001b[0m: __init__() got an unexpected keyword argument 'axis'"
     ]
    }
   ],
   "source": [
    "# 3.To get the tweets in a Proper format, first lets create a Dataframe to store the extracted data.\n",
    "\n",
    "df = pd.DataFrame(columns=[\"date\",\"User\",\"IsVerified\",\"Tweet\",\"Likes\",\"RT\",'User_location'])\n",
    "\n",
    "# df['date'] = df['date'].apply(lambda a: pd.to_datetime(a).date())\n",
    "# df['date'] = pd.to_datetime(df['date'])\n",
    "# df.dtypes\n",
    "# df['date'] = df['date'].dt.tz_localize(None)\n",
    "print(df)\n",
    "\n"
   ]
  },
  {
   "cell_type": "markdown",
   "metadata": {},
   "source": [
    "## We will use api as api.search inside this tweepy cursor.\n"
   ]
  },
  {
   "cell_type": "code",
   "execution_count": 101,
   "metadata": {},
   "outputs": [
    {
     "name": "stderr",
     "output_type": "stream",
     "text": [
      "Unexpected parameter: exclude\n"
     ]
    },
    {
     "name": "stdout",
     "output_type": "stream",
     "text": [
      "6\r"
     ]
    },
    {
     "name": "stderr",
     "output_type": "stream",
     "text": [
      "Unexpected parameter: exclude\n"
     ]
    },
    {
     "name": "stdout",
     "output_type": "stream",
     "text": [
      "10\r"
     ]
    }
   ],
   "source": [
    "# 4.Write a Function to extract tweets:\n",
    "\n",
    "# We will Use **tweepy.cursor()** because we want to extract a larger number of tweets i.e over 100,500 etc\n",
    "\n",
    "\n",
    "def get_tweets(Topic,Count):    \n",
    "    i=0\n",
    "    for tweet in tweepy.Cursor(api.search_tweets, q=Topic,count=10, lang=\"en\",exclude='retweets').items():\n",
    "        print(i, end='\\r')\n",
    "        date=tweet.created_at\n",
    "        df.loc[i,\"date\"] = date.strftime(\"%Y-%m-%d\")\n",
    "        # print('hello')\n",
    "        df.loc[i,\"User\"] = tweet.user.name\n",
    "        df.loc[i,\"IsVerified\"] = tweet.user.verified\n",
    "        df.loc[i,\"Tweet\"] = tweet.text\n",
    "        df.loc[i,\"Likes\"] = tweet.favorite_count\n",
    "        df.loc[i,\"RT\"] = tweet.retweet_count\n",
    "        df.loc[i,\"User_location\"] = tweet.user.location\n",
    "        #df.to_csv(\"TweetDataset.csv\",index=False)\n",
    "        df.to_excel('{}.xlsx'.format(\"TweetDataset\"),index=False)   ## Save as Excel\n",
    "        i=i+1\n",
    "        if i>Count:\n",
    "            break\n",
    "        else:\n",
    "            pass\n",
    "\n",
    "# take input from user\n",
    "Topic = input(\"Enter Keyword/Tag to search about: \")\n",
    "# Topic=[\"Pakistan\"]\n",
    "get_tweets(Topic , Count=10)"
   ]
  },
  {
   "cell_type": "code",
   "execution_count": 102,
   "metadata": {},
   "outputs": [
    {
     "data": {
      "text/html": [
       "<div>\n",
       "<style scoped>\n",
       "    .dataframe tbody tr th:only-of-type {\n",
       "        vertical-align: middle;\n",
       "    }\n",
       "\n",
       "    .dataframe tbody tr th {\n",
       "        vertical-align: top;\n",
       "    }\n",
       "\n",
       "    .dataframe thead th {\n",
       "        text-align: right;\n",
       "    }\n",
       "</style>\n",
       "<table border=\"1\" class=\"dataframe\">\n",
       "  <thead>\n",
       "    <tr style=\"text-align: right;\">\n",
       "      <th></th>\n",
       "      <th>date</th>\n",
       "      <th>User</th>\n",
       "      <th>IsVerified</th>\n",
       "      <th>Tweet</th>\n",
       "      <th>Likes</th>\n",
       "      <th>RT</th>\n",
       "      <th>User_location</th>\n",
       "    </tr>\n",
       "  </thead>\n",
       "  <tbody>\n",
       "    <tr>\n",
       "      <th>0</th>\n",
       "      <td>2022-11-25</td>\n",
       "      <td>Saba Khan</td>\n",
       "      <td>False</td>\n",
       "      <td>110% agreed... main root cause of all the brut...</td>\n",
       "      <td>0</td>\n",
       "      <td>0</td>\n",
       "      <td>Islamabad</td>\n",
       "    </tr>\n",
       "    <tr>\n",
       "      <th>1</th>\n",
       "      <td>2022-11-25</td>\n",
       "      <td>★ Ms Potting Shed 🇺🇦</td>\n",
       "      <td>False</td>\n",
       "      <td>@Jennife10651535 @greendoondoon I'm always goo...</td>\n",
       "      <td>0</td>\n",
       "      <td>0</td>\n",
       "      <td>East Sussex</td>\n",
       "    </tr>\n",
       "    <tr>\n",
       "      <th>2</th>\n",
       "      <td>2022-11-25</td>\n",
       "      <td>Abdullah Khakel</td>\n",
       "      <td>False</td>\n",
       "      <td>@ImranARaja1 Politics aside he is a total emba...</td>\n",
       "      <td>0</td>\n",
       "      <td>0</td>\n",
       "      <td></td>\n",
       "    </tr>\n",
       "    <tr>\n",
       "      <th>3</th>\n",
       "      <td>2022-11-25</td>\n",
       "      <td>Steve 🇾🇪</td>\n",
       "      <td>False</td>\n",
       "      <td>@HamzaD86 Pakistan are better than England (fo...</td>\n",
       "      <td>0</td>\n",
       "      <td>0</td>\n",
       "      <td>Manchester.</td>\n",
       "    </tr>\n",
       "    <tr>\n",
       "      <th>4</th>\n",
       "      <td>2022-11-25</td>\n",
       "      <td>Syed Mazhar</td>\n",
       "      <td>False</td>\n",
       "      <td>Foreign Minister of Pakistan @BBhuttoZardari s...</td>\n",
       "      <td>0</td>\n",
       "      <td>0</td>\n",
       "      <td>Karachi, Pakistan</td>\n",
       "    </tr>\n",
       "    <tr>\n",
       "      <th>5</th>\n",
       "      <td>2022-11-25</td>\n",
       "      <td>ShafaqFatima</td>\n",
       "      <td>False</td>\n",
       "      <td>@PTIofficial Corruption free Pakistan with the...</td>\n",
       "      <td>0</td>\n",
       "      <td>0</td>\n",
       "      <td>In My Thoughts</td>\n",
       "    </tr>\n",
       "    <tr>\n",
       "      <th>6</th>\n",
       "      <td>2022-11-25</td>\n",
       "      <td>Abdullah Qaisar</td>\n",
       "      <td>False</td>\n",
       "      <td>@TheBarmyArmy W’alaikum As Salaam, and welcome...</td>\n",
       "      <td>0</td>\n",
       "      <td>0</td>\n",
       "      <td></td>\n",
       "    </tr>\n",
       "    <tr>\n",
       "      <th>7</th>\n",
       "      <td>2022-11-25</td>\n",
       "      <td>David Gillespie</td>\n",
       "      <td>False</td>\n",
       "      <td>@AnasSarwar @heraldscotland You could not make...</td>\n",
       "      <td>0</td>\n",
       "      <td>0</td>\n",
       "      <td></td>\n",
       "    </tr>\n",
       "  </tbody>\n",
       "</table>\n",
       "</div>"
      ],
      "text/plain": [
       "         date                  User IsVerified  \\\n",
       "0  2022-11-25             Saba Khan      False   \n",
       "1  2022-11-25  ★ Ms Potting Shed 🇺🇦      False   \n",
       "2  2022-11-25       Abdullah Khakel      False   \n",
       "3  2022-11-25              Steve 🇾🇪      False   \n",
       "4  2022-11-25           Syed Mazhar      False   \n",
       "5  2022-11-25          ShafaqFatima      False   \n",
       "6  2022-11-25       Abdullah Qaisar      False   \n",
       "7  2022-11-25       David Gillespie      False   \n",
       "\n",
       "                                               Tweet Likes RT  \\\n",
       "0  110% agreed... main root cause of all the brut...     0  0   \n",
       "1  @Jennife10651535 @greendoondoon I'm always goo...     0  0   \n",
       "2  @ImranARaja1 Politics aside he is a total emba...     0  0   \n",
       "3  @HamzaD86 Pakistan are better than England (fo...     0  0   \n",
       "4  Foreign Minister of Pakistan @BBhuttoZardari s...     0  0   \n",
       "5  @PTIofficial Corruption free Pakistan with the...     0  0   \n",
       "6  @TheBarmyArmy W’alaikum As Salaam, and welcome...     0  0   \n",
       "7  @AnasSarwar @heraldscotland You could not make...     0  0   \n",
       "\n",
       "       User_location  \n",
       "0          Islamabad  \n",
       "1        East Sussex  \n",
       "2                     \n",
       "3        Manchester.  \n",
       "4  Karachi, Pakistan  \n",
       "5     In My Thoughts  \n",
       "6                     \n",
       "7                     "
      ]
     },
     "execution_count": 102,
     "metadata": {},
     "output_type": "execute_result"
    }
   ],
   "source": [
    "# Showing the data the Data\n",
    "df.head(8)"
   ]
  },
  {
   "cell_type": "code",
   "execution_count": 103,
   "metadata": {},
   "outputs": [],
   "source": [
    "# Function to Clean the Tweet.\n",
    "\n",
    "import re\n",
    "def clean_tweet(tweet):\n",
    "    return ' '.join(re.sub('(@[A-Za-z0-9]+)|([^0-9A-Za-z \\t])|(\\w+:\\/\\/\\S+)|([RT])', ' ', str(tweet).lower()).split())\n",
    "\n",
    "# We only want the Text so :\n",
    "\n",
    "# (@[A-Za-z0-9]+)   : Delete Anything like @hello @Letsupgrade etc\n",
    "# ([^0-9A-Za-z \\t]) : Delete everything other than text,number,space,tabspace\n",
    "# (\\w+:\\/\\/\\S+)     : Delete https://\n",
    "# ([RT]) : Remove \"RT\" from the tweet"
   ]
  },
  {
   "cell_type": "code",
   "execution_count": 114,
   "metadata": {},
   "outputs": [],
   "source": [
    "from textblob import TextBlob\n",
    "def analyze_sentiment(tweet):\n",
    "    analysis = TextBlob(tweet)\n",
    "    if analysis.sentiment.polarity > 0:\n",
    "        return 'Positive'\n",
    "    elif analysis.sentiment.polarity == 0:\n",
    "        return 'Neutral'\n",
    "    else:\n",
    "        return 'Negative'"
   ]
  },
  {
   "cell_type": "code",
   "execution_count": null,
   "metadata": {},
   "outputs": [],
   "source": [
    "#Function to Pre-process data for Worlcloud:here we are removing the words present in Topic from the Corpus so they dont come in WordCloud.\n",
    "# Ex : Topic is \"Arsenal vs United\", we want to remove \"Arsenal\" \"vs\" \"United\" from the WordCloud.\n",
    "\n",
    "def prepCloud(Topic_text,Topic):\n",
    "    Topic = str(Topic).lower()\n",
    "    Topic=' '.join(re.sub('([^0-9A-Za-z \\t])', ' ', Topic).split())\n",
    "    Topic = re.split(\"\\s+\",str(Topic))\n",
    "    stopwords = set(STOPWORDS)\n",
    "    stopwords.update(Topic) ### Add our topic in Stopwords, so it doesnt appear in wordClous\n",
    "    ###\n",
    "    text_new = \" \".join([txt for txt in Topic_text.split() if txt not in stopwords])\n",
    "    return text_new\n"
   ]
  }
 ],
 "metadata": {
  "kernelspec": {
   "display_name": "Python 3.9.13 ('base')",
   "language": "python",
   "name": "python3"
  },
  "language_info": {
   "codemirror_mode": {
    "name": "ipython",
    "version": 3
   },
   "file_extension": ".py",
   "mimetype": "text/x-python",
   "name": "python",
   "nbconvert_exporter": "python",
   "pygments_lexer": "ipython3",
   "version": "3.9.13"
  },
  "vscode": {
   "interpreter": {
    "hash": "b79e0abd339c397717e902d130af4595a02cf131cced90ccc4ad655aed0a2153"
   }
  }
 },
 "nbformat": 4,
 "nbformat_minor": 2
}
