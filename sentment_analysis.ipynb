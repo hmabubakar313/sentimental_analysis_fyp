{
 "cells": [
  {
   "cell_type": "markdown",
   "metadata": {},
   "source": []
  },
  {
   "cell_type": "markdown",
   "metadata": {},
   "source": [
    "### This is the jupyter notebook for sentiment analysis of the tweets using the Twitter API\n",
    "### FYP project\n",
    "### Author: Muhammad Abu Bakar\n",
    "### Author: Muhammad Faiz Hassan\n"
   ]
  },
  {
   "cell_type": "code",
   "execution_count": 68,
   "metadata": {
    "scrolled": true
   },
   "outputs": [],
   "source": [
    "# 1. Import Libraries\n",
    "\n",
    "import pandas as pd\n",
    "import numpy as np\n",
    "import matplotlib.pyplot as plt\n",
    "import seaborn as sns\n",
    "import tweepy\n",
    "from tweepy import OAuthHandler\n"
   ]
  },
  {
   "cell_type": "code",
   "execution_count": 69,
   "metadata": {
    "scrolled": true
   },
   "outputs": [
    {
     "name": "stdout",
     "output_type": "stream",
     "text": [
      "<tweepy.api.API object at 0x7f4db374af50>\n"
     ]
    }
   ],
   "source": [
    "\n",
    "\n",
    "# configured api's with consumer k\n",
    "\n",
    "# Use the above credentials to authenticate the API.\n",
    "\n",
    "auth = tweepy.OAuthHandler( \"gxoci9hQ7adNawtYj4r5J459y\" , \"Vn1HMAVwH7Bl3MZXlwGA5kaCOFvs9ZOJ4b3Wg1JRSapU2kbA4G\" )\n",
    "auth.set_access_token( \"930155901666971648-lrpZsfrmdQQihbTLUZKs6pASEdNS5ek\" , \"sjiascsBPd8UBkqPNPUYbaL0RoLxnD9gikEmmRGEusftr\" )\n",
    "api = tweepy.API(auth)\n",
    "print(api)"
   ]
  },
  {
   "cell_type": "code",
   "execution_count": 70,
   "metadata": {},
   "outputs": [
    {
     "name": "stdout",
     "output_type": "stream",
     "text": [
      "Empty DataFrame\n",
      "Columns: [date, User, IsVerified, Tweet, Likes, RT, User_location]\n",
      "Index: []\n"
     ]
    }
   ],
   "source": [
    "# 3.To get the tweets in a Proper format, first lets create a Dataframe to store the extracted data.\n",
    "\n",
    "df = pd.DataFrame(columns=[\"date\",\"User\",\"IsVerified\",\"Tweet\",\"Likes\",\"RT\",'User_location'])\n",
    "\n",
    "# df['date'] = df['date'].apply(lambda a: pd.to_datetime(a).date())\n",
    "# df['date'] = pd.to_datetime(df['date'])\n",
    "# df.dtypes\n",
    "# df['date'] = df['date'].dt.tz_localize(None)\n",
    "print(df)\n",
    "\n"
   ]
  },
  {
   "cell_type": "markdown",
   "metadata": {},
   "source": [
    "## We will use api as api.search inside this tweepy cursor.\n"
   ]
  },
  {
   "cell_type": "code",
   "execution_count": 71,
   "metadata": {},
   "outputs": [
    {
     "name": "stderr",
     "output_type": "stream",
     "text": [
      "Unexpected parameter: exclude\n",
      "Unexpected parameter: exclude\n"
     ]
    },
    {
     "name": "stdout",
     "output_type": "stream",
     "text": [
      "10\r"
     ]
    }
   ],
   "source": [
    "# 4.Write a Function to extract tweets:\n",
    "\n",
    "# We will Use **tweepy.cursor()** because we want to extract a larger number of tweets i.e over 100,500 etc\n",
    "\n",
    "\n",
    "def get_tweets(Topic,Count):    \n",
    "    i=0\n",
    "    for tweet in tweepy.Cursor(api.search_tweets, q=Topic,count=10, lang=\"en\",exclude='retweets').items():\n",
    "        print(i, end='\\r')\n",
    "        date=tweet.created_at\n",
    "        df.loc[i,\"date\"] = date.strftime(\"%Y-%m-%d\")\n",
    "        # print('hello')\n",
    "        df.loc[i,\"User\"] = tweet.user.name\n",
    "        df.loc[i,\"IsVerified\"] = tweet.user.verified\n",
    "        df.loc[i,\"Tweet\"] = tweet.text\n",
    "        df.loc[i,\"Likes\"] = tweet.favorite_count\n",
    "        df.loc[i,\"RT\"] = tweet.retweet_count\n",
    "        df.loc[i,\"User_location\"] = tweet.user.location\n",
    "        #df.to_csv(\"TweetDataset.csv\",index=False)\n",
    "        df.to_excel('{}.xlsx'.format(\"TweetDataset\"),index=False)   ## Save as Excel\n",
    "        i=i+1\n",
    "        if i>Count:\n",
    "            break\n",
    "        else:\n",
    "            pass\n",
    "\n",
    "# take input from user\n",
    "Topic = \"Imran Khan\"\n",
    "# Topic=[\"Pakistan\"]\n",
    "get_tweets(Topic , Count=10)"
   ]
  },
  {
   "cell_type": "code",
   "execution_count": 72,
   "metadata": {},
   "outputs": [
    {
     "data": {
      "text/html": [
       "<div>\n",
       "<style scoped>\n",
       "    .dataframe tbody tr th:only-of-type {\n",
       "        vertical-align: middle;\n",
       "    }\n",
       "\n",
       "    .dataframe tbody tr th {\n",
       "        vertical-align: top;\n",
       "    }\n",
       "\n",
       "    .dataframe thead th {\n",
       "        text-align: right;\n",
       "    }\n",
       "</style>\n",
       "<table border=\"1\" class=\"dataframe\">\n",
       "  <thead>\n",
       "    <tr style=\"text-align: right;\">\n",
       "      <th></th>\n",
       "      <th>date</th>\n",
       "      <th>User</th>\n",
       "      <th>IsVerified</th>\n",
       "      <th>Tweet</th>\n",
       "      <th>Likes</th>\n",
       "      <th>RT</th>\n",
       "      <th>User_location</th>\n",
       "    </tr>\n",
       "  </thead>\n",
       "  <tbody>\n",
       "    <tr>\n",
       "      <th>0</th>\n",
       "      <td>2022-11-26</td>\n",
       "      <td>Arslaan</td>\n",
       "      <td>False</td>\n",
       "      <td>@ImranRiazKhan Great leader Imran Khan 🫡🫡🫡🫡</td>\n",
       "      <td>0</td>\n",
       "      <td>0</td>\n",
       "      <td></td>\n",
       "    </tr>\n",
       "    <tr>\n",
       "      <th>1</th>\n",
       "      <td>2022-11-26</td>\n",
       "      <td>Neo News Urdu</td>\n",
       "      <td>True</td>\n",
       "      <td>🔴 LIVE | Huge Crowd at PTI Power Show In Rawal...</td>\n",
       "      <td>1</td>\n",
       "      <td>0</td>\n",
       "      <td>Pakistan</td>\n",
       "    </tr>\n",
       "    <tr>\n",
       "      <th>2</th>\n",
       "      <td>2022-11-26</td>\n",
       "      <td>FightAgainstDisinformation</td>\n",
       "      <td>False</td>\n",
       "      <td>Imran Khan: Fist rally by former Pakistan PM s...</td>\n",
       "      <td>0</td>\n",
       "      <td>0</td>\n",
       "      <td>London</td>\n",
       "    </tr>\n",
       "    <tr>\n",
       "      <th>3</th>\n",
       "      <td>2022-11-26</td>\n",
       "      <td>ANGRY MAN</td>\n",
       "      <td>False</td>\n",
       "      <td>PRAYERS FOR IMRAN KHAN &amp;amp; PEACEFUL LONGMARC...</td>\n",
       "      <td>0</td>\n",
       "      <td>1</td>\n",
       "      <td>Karachi, Pakistan</td>\n",
       "    </tr>\n",
       "    <tr>\n",
       "      <th>4</th>\n",
       "      <td>2022-11-26</td>\n",
       "      <td>Ali Sadam❤️ AS ❤️ PTI 💕</td>\n",
       "      <td>False</td>\n",
       "      <td>@RashidNasrulah This leader Imran Khan Sahab g...</td>\n",
       "      <td>1</td>\n",
       "      <td>0</td>\n",
       "      <td></td>\n",
       "    </tr>\n",
       "    <tr>\n",
       "      <th>5</th>\n",
       "      <td>2022-11-26</td>\n",
       "      <td>Ayesha</td>\n",
       "      <td>False</td>\n",
       "      <td>Slow internet, because we are not scared of Im...</td>\n",
       "      <td>0</td>\n",
       "      <td>0</td>\n",
       "      <td></td>\n",
       "    </tr>\n",
       "    <tr>\n",
       "      <th>6</th>\n",
       "      <td>2022-11-26</td>\n",
       "      <td>Ehsan Ghuman</td>\n",
       "      <td>False</td>\n",
       "      <td>Municipal elections are going to be held in Az...</td>\n",
       "      <td>0</td>\n",
       "      <td>0</td>\n",
       "      <td></td>\n",
       "    </tr>\n",
       "    <tr>\n",
       "      <th>7</th>\n",
       "      <td>2022-11-26</td>\n",
       "      <td>Bis Faqiri</td>\n",
       "      <td>False</td>\n",
       "      <td>@ShaziaJ3 @MaryamNSharif Imran khan is like ra...</td>\n",
       "      <td>0</td>\n",
       "      <td>0</td>\n",
       "      <td></td>\n",
       "    </tr>\n",
       "  </tbody>\n",
       "</table>\n",
       "</div>"
      ],
      "text/plain": [
       "         date                        User IsVerified  \\\n",
       "0  2022-11-26                     Arslaan      False   \n",
       "1  2022-11-26               Neo News Urdu       True   \n",
       "2  2022-11-26  FightAgainstDisinformation      False   \n",
       "3  2022-11-26                   ANGRY MAN      False   \n",
       "4  2022-11-26     Ali Sadam❤️ AS ❤️ PTI 💕      False   \n",
       "5  2022-11-26                      Ayesha      False   \n",
       "6  2022-11-26                Ehsan Ghuman      False   \n",
       "7  2022-11-26                  Bis Faqiri      False   \n",
       "\n",
       "                                               Tweet Likes RT  \\\n",
       "0        @ImranRiazKhan Great leader Imran Khan 🫡🫡🫡🫡     0  0   \n",
       "1  🔴 LIVE | Huge Crowd at PTI Power Show In Rawal...     1  0   \n",
       "2  Imran Khan: Fist rally by former Pakistan PM s...     0  0   \n",
       "3  PRAYERS FOR IMRAN KHAN &amp; PEACEFUL LONGMARC...     0  1   \n",
       "4  @RashidNasrulah This leader Imran Khan Sahab g...     1  0   \n",
       "5  Slow internet, because we are not scared of Im...     0  0   \n",
       "6  Municipal elections are going to be held in Az...     0  0   \n",
       "7  @ShaziaJ3 @MaryamNSharif Imran khan is like ra...     0  0   \n",
       "\n",
       "       User_location  \n",
       "0                     \n",
       "1           Pakistan  \n",
       "2             London  \n",
       "3  Karachi, Pakistan  \n",
       "4                     \n",
       "5                     \n",
       "6                     \n",
       "7                     "
      ]
     },
     "execution_count": 72,
     "metadata": {},
     "output_type": "execute_result"
    }
   ],
   "source": [
    "# Showing the data the Data\n",
    "df.head(8)"
   ]
  },
  {
   "cell_type": "code",
   "execution_count": 73,
   "metadata": {},
   "outputs": [],
   "source": [
    "# Function to Clean the Tweet.\n",
    "\n",
    "import re\n",
    "def clean_tweet(tweet):\n",
    "    return ' '.join(re.sub('(@[A-Za-z0-9]+)|([^0-9A-Za-z \\t])|(\\w+:\\/\\/\\S+)|([RT])', ' ', str(tweet).lower()).split())\n",
    "\n",
    "# We only want the Text so :\n",
    "\n",
    "# (@[A-Za-z0-9]+)   : Delete Anything like @hello @Letsupgrade etc\n",
    "# ([^0-9A-Za-z \\t]) : Delete everything other than text,number,space,tabspace\n",
    "# (\\w+:\\/\\/\\S+)     : Delete https://\n",
    "# ([RT]) : Remove \"RT\" from the tweet"
   ]
  },
  {
   "cell_type": "code",
   "execution_count": 74,
   "metadata": {},
   "outputs": [],
   "source": [
    "from textblob import TextBlob\n",
    "def analyze_sentiment(tweet):\n",
    "    analysis = TextBlob(tweet)\n",
    "    if analysis.sentiment.polarity > 0:\n",
    "        return 'positive'\n",
    "    elif analysis.sentiment.polarity == 0:\n",
    "        return 'Neutral'\n",
    "    else:\n",
    "        return 'Negative'"
   ]
  },
  {
   "cell_type": "code",
   "execution_count": 75,
   "metadata": {},
   "outputs": [],
   "source": [
    "#Function to Pre-process data for Worlcloud:here we are removing the words present in Topic from the Corpus so they dont come in WordCloud.\n",
    "# Ex : Topic is \"Arsenal vs United\", we want to remove \"Arsenal\" \"vs\" \"United\" from the WordCloud.\n",
    "\n",
    "def prepCloud(Topic_text,Topic):\n",
    "    Topic = str(Topic).lower()\n",
    "    Topic=' '.join(re.sub('([^0-9A-Za-z \\t])', ' ', Topic).split())\n",
    "    Topic = re.split(\"\\s+\",str(Topic))\n",
    "    stopwords = set(STOPWORDS)\n",
    "    stopwords.update(Topic) ### Add our topic in Stopwords, so it doesnt appear in wordClous\n",
    "    ###\n",
    "    text_new = \" \".join([txt for txt in Topic_text.split() if txt not in stopwords])\n",
    "    return text_new\n"
   ]
  },
  {
   "cell_type": "code",
   "execution_count": 76,
   "metadata": {},
   "outputs": [
    {
     "data": {
      "text/html": [
       "<div>\n",
       "<style scoped>\n",
       "    .dataframe tbody tr th:only-of-type {\n",
       "        vertical-align: middle;\n",
       "    }\n",
       "\n",
       "    .dataframe tbody tr th {\n",
       "        vertical-align: top;\n",
       "    }\n",
       "\n",
       "    .dataframe thead th {\n",
       "        text-align: right;\n",
       "    }\n",
       "</style>\n",
       "<table border=\"1\" class=\"dataframe\">\n",
       "  <thead>\n",
       "    <tr style=\"text-align: right;\">\n",
       "      <th></th>\n",
       "      <th>date</th>\n",
       "      <th>User</th>\n",
       "      <th>IsVerified</th>\n",
       "      <th>Tweet</th>\n",
       "      <th>Likes</th>\n",
       "      <th>RT</th>\n",
       "      <th>User_location</th>\n",
       "      <th>clean_tweet</th>\n",
       "    </tr>\n",
       "  </thead>\n",
       "  <tbody>\n",
       "    <tr>\n",
       "      <th>0</th>\n",
       "      <td>2022-11-26</td>\n",
       "      <td>Arslaan</td>\n",
       "      <td>False</td>\n",
       "      <td>@ImranRiazKhan Great leader Imran Khan 🫡🫡🫡🫡</td>\n",
       "      <td>0</td>\n",
       "      <td>0</td>\n",
       "      <td></td>\n",
       "      <td>great leader imran khan</td>\n",
       "    </tr>\n",
       "    <tr>\n",
       "      <th>1</th>\n",
       "      <td>2022-11-26</td>\n",
       "      <td>Neo News Urdu</td>\n",
       "      <td>True</td>\n",
       "      <td>🔴 LIVE | Huge Crowd at PTI Power Show In Rawal...</td>\n",
       "      <td>1</td>\n",
       "      <td>0</td>\n",
       "      <td>Pakistan</td>\n",
       "      <td>live huge crowd at pti power show in rawalpind...</td>\n",
       "    </tr>\n",
       "    <tr>\n",
       "      <th>2</th>\n",
       "      <td>2022-11-26</td>\n",
       "      <td>FightAgainstDisinformation</td>\n",
       "      <td>False</td>\n",
       "      <td>Imran Khan: Fist rally by former Pakistan PM s...</td>\n",
       "      <td>0</td>\n",
       "      <td>0</td>\n",
       "      <td>London</td>\n",
       "      <td>imran khan fist rally by former pakistan pm si...</td>\n",
       "    </tr>\n",
       "    <tr>\n",
       "      <th>3</th>\n",
       "      <td>2022-11-26</td>\n",
       "      <td>ANGRY MAN</td>\n",
       "      <td>False</td>\n",
       "      <td>PRAYERS FOR IMRAN KHAN &amp;amp; PEACEFUL LONGMARC...</td>\n",
       "      <td>0</td>\n",
       "      <td>1</td>\n",
       "      <td>Karachi, Pakistan</td>\n",
       "      <td>prayers for imran khan amp peaceful longmarchi...</td>\n",
       "    </tr>\n",
       "    <tr>\n",
       "      <th>4</th>\n",
       "      <td>2022-11-26</td>\n",
       "      <td>Ali Sadam❤️ AS ❤️ PTI 💕</td>\n",
       "      <td>False</td>\n",
       "      <td>@RashidNasrulah This leader Imran Khan Sahab g...</td>\n",
       "      <td>1</td>\n",
       "      <td>0</td>\n",
       "      <td></td>\n",
       "      <td>this leader imran khan sahab great</td>\n",
       "    </tr>\n",
       "  </tbody>\n",
       "</table>\n",
       "</div>"
      ],
      "text/plain": [
       "         date                        User IsVerified  \\\n",
       "0  2022-11-26                     Arslaan      False   \n",
       "1  2022-11-26               Neo News Urdu       True   \n",
       "2  2022-11-26  FightAgainstDisinformation      False   \n",
       "3  2022-11-26                   ANGRY MAN      False   \n",
       "4  2022-11-26     Ali Sadam❤️ AS ❤️ PTI 💕      False   \n",
       "\n",
       "                                               Tweet Likes RT  \\\n",
       "0        @ImranRiazKhan Great leader Imran Khan 🫡🫡🫡🫡     0  0   \n",
       "1  🔴 LIVE | Huge Crowd at PTI Power Show In Rawal...     1  0   \n",
       "2  Imran Khan: Fist rally by former Pakistan PM s...     0  0   \n",
       "3  PRAYERS FOR IMRAN KHAN &amp; PEACEFUL LONGMARC...     0  1   \n",
       "4  @RashidNasrulah This leader Imran Khan Sahab g...     1  0   \n",
       "\n",
       "       User_location                                        clean_tweet  \n",
       "0                                               great leader imran khan  \n",
       "1           Pakistan  live huge crowd at pti power show in rawalpind...  \n",
       "2             London  imran khan fist rally by former pakistan pm si...  \n",
       "3  Karachi, Pakistan  prayers for imran khan amp peaceful longmarchi...  \n",
       "4                                    this leader imran khan sahab great  "
      ]
     },
     "execution_count": 76,
     "metadata": {},
     "output_type": "execute_result"
    }
   ],
   "source": [
    "df['clean_tweet'] = df['Tweet'].apply(lambda x : clean_tweet(x))\n",
    "df.head(5)\n"
   ]
  },
  {
   "cell_type": "code",
   "execution_count": 77,
   "metadata": {},
   "outputs": [
    {
     "data": {
      "text/html": [
       "<div>\n",
       "<style scoped>\n",
       "    .dataframe tbody tr th:only-of-type {\n",
       "        vertical-align: middle;\n",
       "    }\n",
       "\n",
       "    .dataframe tbody tr th {\n",
       "        vertical-align: top;\n",
       "    }\n",
       "\n",
       "    .dataframe thead th {\n",
       "        text-align: right;\n",
       "    }\n",
       "</style>\n",
       "<table border=\"1\" class=\"dataframe\">\n",
       "  <thead>\n",
       "    <tr style=\"text-align: right;\">\n",
       "      <th></th>\n",
       "      <th>date</th>\n",
       "      <th>User</th>\n",
       "      <th>IsVerified</th>\n",
       "      <th>Tweet</th>\n",
       "      <th>Likes</th>\n",
       "      <th>RT</th>\n",
       "      <th>User_location</th>\n",
       "      <th>clean_tweet</th>\n",
       "      <th>Sentiment</th>\n",
       "    </tr>\n",
       "  </thead>\n",
       "  <tbody>\n",
       "    <tr>\n",
       "      <th>0</th>\n",
       "      <td>2022-11-26</td>\n",
       "      <td>Arslaan</td>\n",
       "      <td>False</td>\n",
       "      <td>@ImranRiazKhan Great leader Imran Khan 🫡🫡🫡🫡</td>\n",
       "      <td>0</td>\n",
       "      <td>0</td>\n",
       "      <td></td>\n",
       "      <td>great leader imran khan</td>\n",
       "      <td>positive</td>\n",
       "    </tr>\n",
       "    <tr>\n",
       "      <th>1</th>\n",
       "      <td>2022-11-26</td>\n",
       "      <td>Neo News Urdu</td>\n",
       "      <td>True</td>\n",
       "      <td>🔴 LIVE | Huge Crowd at PTI Power Show In Rawal...</td>\n",
       "      <td>1</td>\n",
       "      <td>0</td>\n",
       "      <td>Pakistan</td>\n",
       "      <td>live huge crowd at pti power show in rawalpind...</td>\n",
       "      <td>positive</td>\n",
       "    </tr>\n",
       "    <tr>\n",
       "      <th>2</th>\n",
       "      <td>2022-11-26</td>\n",
       "      <td>FightAgainstDisinformation</td>\n",
       "      <td>False</td>\n",
       "      <td>Imran Khan: Fist rally by former Pakistan PM s...</td>\n",
       "      <td>0</td>\n",
       "      <td>0</td>\n",
       "      <td>London</td>\n",
       "      <td>imran khan fist rally by former pakistan pm si...</td>\n",
       "      <td>Neutral</td>\n",
       "    </tr>\n",
       "    <tr>\n",
       "      <th>3</th>\n",
       "      <td>2022-11-26</td>\n",
       "      <td>ANGRY MAN</td>\n",
       "      <td>False</td>\n",
       "      <td>PRAYERS FOR IMRAN KHAN &amp;amp; PEACEFUL LONGMARC...</td>\n",
       "      <td>0</td>\n",
       "      <td>1</td>\n",
       "      <td>Karachi, Pakistan</td>\n",
       "      <td>prayers for imran khan amp peaceful longmarchi...</td>\n",
       "      <td>positive</td>\n",
       "    </tr>\n",
       "    <tr>\n",
       "      <th>4</th>\n",
       "      <td>2022-11-26</td>\n",
       "      <td>Ali Sadam❤️ AS ❤️ PTI 💕</td>\n",
       "      <td>False</td>\n",
       "      <td>@RashidNasrulah This leader Imran Khan Sahab g...</td>\n",
       "      <td>1</td>\n",
       "      <td>0</td>\n",
       "      <td></td>\n",
       "      <td>this leader imran khan sahab great</td>\n",
       "      <td>positive</td>\n",
       "    </tr>\n",
       "  </tbody>\n",
       "</table>\n",
       "</div>"
      ],
      "text/plain": [
       "         date                        User IsVerified  \\\n",
       "0  2022-11-26                     Arslaan      False   \n",
       "1  2022-11-26               Neo News Urdu       True   \n",
       "2  2022-11-26  FightAgainstDisinformation      False   \n",
       "3  2022-11-26                   ANGRY MAN      False   \n",
       "4  2022-11-26     Ali Sadam❤️ AS ❤️ PTI 💕      False   \n",
       "\n",
       "                                               Tweet Likes RT  \\\n",
       "0        @ImranRiazKhan Great leader Imran Khan 🫡🫡🫡🫡     0  0   \n",
       "1  🔴 LIVE | Huge Crowd at PTI Power Show In Rawal...     1  0   \n",
       "2  Imran Khan: Fist rally by former Pakistan PM s...     0  0   \n",
       "3  PRAYERS FOR IMRAN KHAN &amp; PEACEFUL LONGMARC...     0  1   \n",
       "4  @RashidNasrulah This leader Imran Khan Sahab g...     1  0   \n",
       "\n",
       "       User_location                                        clean_tweet  \\\n",
       "0                                               great leader imran khan   \n",
       "1           Pakistan  live huge crowd at pti power show in rawalpind...   \n",
       "2             London  imran khan fist rally by former pakistan pm si...   \n",
       "3  Karachi, Pakistan  prayers for imran khan amp peaceful longmarchi...   \n",
       "4                                    this leader imran khan sahab great   \n",
       "\n",
       "  Sentiment  \n",
       "0  positive  \n",
       "1  positive  \n",
       "2   Neutral  \n",
       "3  positive  \n",
       "4  positive  "
      ]
     },
     "execution_count": 77,
     "metadata": {},
     "output_type": "execute_result"
    }
   ],
   "source": [
    "df[\"Sentiment\"] = df[\"Tweet\"].apply(lambda x : analyze_sentiment(x))\n",
    "df.head(5)"
   ]
  },
  {
   "cell_type": "code",
   "execution_count": 78,
   "metadata": {},
   "outputs": [
    {
     "name": "stdout",
     "output_type": "stream",
     "text": [
      "Original tweet:\n",
      " Slow internet, because we are not scared of Imran Khan. \n",
      "#PTILongMarch https://t.co/lMLlOlKzea\n",
      "\n",
      "Clean tweet:\n",
      " slow internet because we are not scared of imran khan ptilongmarch\n",
      "\n",
      "Sentiment of the tweet:\n",
      " Negative\n"
     ]
    }
   ],
   "source": [
    "\n",
    "\n",
    "# Check Summary of Random Record\n",
    "n = 5\n",
    "print(\"Original tweet:\\n\",df['Tweet'][n])\n",
    "print()\n",
    "print(\"Clean tweet:\\n\",df['clean_tweet'][n])\n",
    "print()\n",
    "print(\"Sentiment of the tweet:\\n\",df['Sentiment'][n])\n",
    "\n"
   ]
  },
  {
   "cell_type": "code",
   "execution_count": 79,
   "metadata": {},
   "outputs": [
    {
     "name": "stdout",
     "output_type": "stream",
     "text": [
      "Total Tweets Extracted for Topic : Imran Khan are : 11\n",
      "Total Positive Tweets are : 0\n",
      "Total Negative Tweets are : 1\n",
      "Total Neutral Tweets are : 6\n"
     ]
    }
   ],
   "source": [
    "# Overall Summary\n",
    "\n",
    "print(\"Total Tweets Extracted for Topic : {} are : {}\".format(Topic,len(df.Tweet)))\n",
    "print(\"Total Positive Tweets are : {}\".format(len(df[df[\"Sentiment\"]==\"Positive\"])))\n",
    "print(\"Total Negative Tweets are : {}\".format(len(df[df[\"Sentiment\"]==\"Negative\"])))\n",
    "print(\"Total Neutral Tweets are : {}\".format(len(df[df[\"Sentiment\"]==\"Neutral\"])))\n"
   ]
  },
  {
   "cell_type": "code",
   "execution_count": 80,
   "metadata": {},
   "outputs": [
    {
     "data": {
      "text/plain": [
       "Neutral     6\n",
       "positive    4\n",
       "Negative    1\n",
       "Name: Sentiment, dtype: int64"
      ]
     },
     "execution_count": 80,
     "metadata": {},
     "output_type": "execute_result"
    }
   ],
   "source": [
    "df[\"Sentiment\"].value_counts()"
   ]
  },
  {
   "cell_type": "code",
   "execution_count": 81,
   "metadata": {},
   "outputs": [
    {
     "ename": "ValueError",
     "evalue": "could not convert string to float: 'positive'",
     "output_type": "error",
     "traceback": [
      "\u001b[0;31m---------------------------------------------------------------------------\u001b[0m",
      "\u001b[0;31mValueError\u001b[0m                                Traceback (most recent call last)",
      "Cell \u001b[0;32mIn [81], line 2\u001b[0m\n\u001b[1;32m      1\u001b[0m \u001b[39m#sns.countplot(df[\"Sentiment\"],facecolor=(0, 0, 0, 0),linewidth=5,edgecolor=sns.color_palette(\"dark\", 3))\u001b[39;00m\n\u001b[0;32m----> 2\u001b[0m sns\u001b[39m.\u001b[39;49mcountplot(df[\u001b[39m\"\u001b[39;49m\u001b[39mSentiment\u001b[39;49m\u001b[39m\"\u001b[39;49m])\n\u001b[1;32m      3\u001b[0m plt\u001b[39m.\u001b[39mtitle(\u001b[39m\"\u001b[39m\u001b[39mSummary of Counts for Total tweets\u001b[39m\u001b[39m\"\u001b[39m)\n",
      "File \u001b[0;32m~/.local/lib/python3.10/site-packages/seaborn/categorical.py:2942\u001b[0m, in \u001b[0;36mcountplot\u001b[0;34m(data, x, y, hue, order, hue_order, orient, color, palette, saturation, width, dodge, ax, **kwargs)\u001b[0m\n\u001b[1;32m   2939\u001b[0m \u001b[39melif\u001b[39;00m x \u001b[39mis\u001b[39;00m \u001b[39mnot\u001b[39;00m \u001b[39mNone\u001b[39;00m \u001b[39mand\u001b[39;00m y \u001b[39mis\u001b[39;00m \u001b[39mnot\u001b[39;00m \u001b[39mNone\u001b[39;00m:\n\u001b[1;32m   2940\u001b[0m     \u001b[39mraise\u001b[39;00m \u001b[39mValueError\u001b[39;00m(\u001b[39m\"\u001b[39m\u001b[39mCannot pass values for both `x` and `y`\u001b[39m\u001b[39m\"\u001b[39m)\n\u001b[0;32m-> 2942\u001b[0m plotter \u001b[39m=\u001b[39m _CountPlotter(\n\u001b[1;32m   2943\u001b[0m     x, y, hue, data, order, hue_order,\n\u001b[1;32m   2944\u001b[0m     estimator, errorbar, n_boot, units, seed,\n\u001b[1;32m   2945\u001b[0m     orient, color, palette, saturation,\n\u001b[1;32m   2946\u001b[0m     width, errcolor, errwidth, capsize, dodge\n\u001b[1;32m   2947\u001b[0m )\n\u001b[1;32m   2949\u001b[0m plotter\u001b[39m.\u001b[39mvalue_label \u001b[39m=\u001b[39m \u001b[39m\"\u001b[39m\u001b[39mcount\u001b[39m\u001b[39m\"\u001b[39m\n\u001b[1;32m   2951\u001b[0m \u001b[39mif\u001b[39;00m ax \u001b[39mis\u001b[39;00m \u001b[39mNone\u001b[39;00m:\n",
      "File \u001b[0;32m~/.local/lib/python3.10/site-packages/seaborn/categorical.py:1530\u001b[0m, in \u001b[0;36m_BarPlotter.__init__\u001b[0;34m(self, x, y, hue, data, order, hue_order, estimator, errorbar, n_boot, units, seed, orient, color, palette, saturation, width, errcolor, errwidth, capsize, dodge)\u001b[0m\n\u001b[1;32m   1525\u001b[0m \u001b[39mdef\u001b[39;00m \u001b[39m__init__\u001b[39m(\u001b[39mself\u001b[39m, x, y, hue, data, order, hue_order,\n\u001b[1;32m   1526\u001b[0m              estimator, errorbar, n_boot, units, seed,\n\u001b[1;32m   1527\u001b[0m              orient, color, palette, saturation, width,\n\u001b[1;32m   1528\u001b[0m              errcolor, errwidth, capsize, dodge):\n\u001b[1;32m   1529\u001b[0m     \u001b[39m\"\"\"Initialize the plotter.\"\"\"\u001b[39;00m\n\u001b[0;32m-> 1530\u001b[0m     \u001b[39mself\u001b[39;49m\u001b[39m.\u001b[39;49mestablish_variables(x, y, hue, data, orient,\n\u001b[1;32m   1531\u001b[0m                              order, hue_order, units)\n\u001b[1;32m   1532\u001b[0m     \u001b[39mself\u001b[39m\u001b[39m.\u001b[39mestablish_colors(color, palette, saturation)\n\u001b[1;32m   1533\u001b[0m     \u001b[39mself\u001b[39m\u001b[39m.\u001b[39mestimate_statistic(estimator, errorbar, n_boot, seed)\n",
      "File \u001b[0;32m~/.local/lib/python3.10/site-packages/seaborn/categorical.py:516\u001b[0m, in \u001b[0;36m_CategoricalPlotter.establish_variables\u001b[0;34m(self, x, y, hue, data, orient, order, hue_order, units)\u001b[0m\n\u001b[1;32m    513\u001b[0m     plot_data \u001b[39m=\u001b[39m data\n\u001b[1;32m    515\u001b[0m \u001b[39m# Convert to a list of arrays, the common representation\u001b[39;00m\n\u001b[0;32m--> 516\u001b[0m plot_data \u001b[39m=\u001b[39m [np\u001b[39m.\u001b[39masarray(d, \u001b[39mfloat\u001b[39m) \u001b[39mfor\u001b[39;00m d \u001b[39min\u001b[39;00m plot_data]\n\u001b[1;32m    518\u001b[0m \u001b[39m# The group names will just be numeric indices\u001b[39;00m\n\u001b[1;32m    519\u001b[0m group_names \u001b[39m=\u001b[39m \u001b[39mlist\u001b[39m(\u001b[39mrange\u001b[39m(\u001b[39mlen\u001b[39m(plot_data)))\n",
      "File \u001b[0;32m~/.local/lib/python3.10/site-packages/seaborn/categorical.py:516\u001b[0m, in \u001b[0;36m<listcomp>\u001b[0;34m(.0)\u001b[0m\n\u001b[1;32m    513\u001b[0m     plot_data \u001b[39m=\u001b[39m data\n\u001b[1;32m    515\u001b[0m \u001b[39m# Convert to a list of arrays, the common representation\u001b[39;00m\n\u001b[0;32m--> 516\u001b[0m plot_data \u001b[39m=\u001b[39m [np\u001b[39m.\u001b[39;49masarray(d, \u001b[39mfloat\u001b[39;49m) \u001b[39mfor\u001b[39;00m d \u001b[39min\u001b[39;00m plot_data]\n\u001b[1;32m    518\u001b[0m \u001b[39m# The group names will just be numeric indices\u001b[39;00m\n\u001b[1;32m    519\u001b[0m group_names \u001b[39m=\u001b[39m \u001b[39mlist\u001b[39m(\u001b[39mrange\u001b[39m(\u001b[39mlen\u001b[39m(plot_data)))\n",
      "File \u001b[0;32m~/.local/lib/python3.10/site-packages/pandas/core/series.py:893\u001b[0m, in \u001b[0;36mSeries.__array__\u001b[0;34m(self, dtype)\u001b[0m\n\u001b[1;32m    846\u001b[0m \u001b[39mdef\u001b[39;00m \u001b[39m__array__\u001b[39m(\u001b[39mself\u001b[39m, dtype: npt\u001b[39m.\u001b[39mDTypeLike \u001b[39m|\u001b[39m \u001b[39mNone\u001b[39;00m \u001b[39m=\u001b[39m \u001b[39mNone\u001b[39;00m) \u001b[39m-\u001b[39m\u001b[39m>\u001b[39m np\u001b[39m.\u001b[39mndarray:\n\u001b[1;32m    847\u001b[0m     \u001b[39m\"\"\"\u001b[39;00m\n\u001b[1;32m    848\u001b[0m \u001b[39m    Return the values as a NumPy array.\u001b[39;00m\n\u001b[1;32m    849\u001b[0m \n\u001b[0;32m   (...)\u001b[0m\n\u001b[1;32m    891\u001b[0m \u001b[39m          dtype='datetime64[ns]')\u001b[39;00m\n\u001b[1;32m    892\u001b[0m \u001b[39m    \"\"\"\u001b[39;00m\n\u001b[0;32m--> 893\u001b[0m     \u001b[39mreturn\u001b[39;00m np\u001b[39m.\u001b[39;49masarray(\u001b[39mself\u001b[39;49m\u001b[39m.\u001b[39;49m_values, dtype)\n",
      "\u001b[0;31mValueError\u001b[0m: could not convert string to float: 'positive'"
     ]
    }
   ],
   "source": [
    "\n",
    "\n",
    "#sns.countplot(df[\"Sentiment\"],facecolor=(0, 0, 0, 0),linewidth=5,edgecolor=sns.color_palette(\"dark\", 3))\n",
    "sns.countplot(df[\"Sentiment\"])\n",
    "plt.title(\"Summary of Counts for Total tweets\")\n",
    "\n"
   ]
  },
  {
   "cell_type": "code",
   "execution_count": null,
   "metadata": {},
   "outputs": [],
   "source": [
    "\n",
    "\n",
    "# Piechart \n",
    "#string, used to label the wedges with their numeric value. The label will be placed inside the wedge. The format string will be fmt%pct.\n",
    "\n",
    "a=len(df[df[\"Sentiment\"]==\"Positive\"])\n",
    "b=len(df[df[\"Sentiment\"]==\"Negative\"])\n",
    "c=len(df[df[\"Sentiment\"]==\"Neutral\"])\n",
    "d=np.array([a,b,c])\n",
    "explode = (0.1, 0.0, 0.1)\n",
    "plt.pie(d,shadow=True,explode=explode,labels=[\"Positive\",\"Negative\",\"Neutral\"],autopct='%1.2f%%');\n",
    "\n"
   ]
  },
  {
   "cell_type": "code",
   "execution_count": 82,
   "metadata": {},
   "outputs": [
    {
     "ename": "ValueError",
     "evalue": "Cannot use `hue` without `x` and `y`",
     "output_type": "error",
     "traceback": [
      "\u001b[0;31m---------------------------------------------------------------------------\u001b[0m",
      "\u001b[0;31mValueError\u001b[0m                                Traceback (most recent call last)",
      "Cell \u001b[0;32mIn [82], line 3\u001b[0m\n\u001b[1;32m      1\u001b[0m \u001b[39m#check if verified user has more tweets\u001b[39;00m\n\u001b[0;32m----> 3\u001b[0m sns\u001b[39m.\u001b[39;49mcountplot(df[\u001b[39m\"\u001b[39;49m\u001b[39mSentiment\u001b[39;49m\u001b[39m\"\u001b[39;49m],hue\u001b[39m=\u001b[39;49mdf\u001b[39m.\u001b[39;49mIsVerified)\n\u001b[1;32m      4\u001b[0m plt\u001b[39m.\u001b[39mtitle(\u001b[39m\"\u001b[39m\u001b[39mSummary of Counts for Total tweets,Distributed by if the User has a verified Account or not\u001b[39m\u001b[39m\"\u001b[39m)\n",
      "File \u001b[0;32m~/.local/lib/python3.10/site-packages/seaborn/categorical.py:2942\u001b[0m, in \u001b[0;36mcountplot\u001b[0;34m(data, x, y, hue, order, hue_order, orient, color, palette, saturation, width, dodge, ax, **kwargs)\u001b[0m\n\u001b[1;32m   2939\u001b[0m \u001b[39melif\u001b[39;00m x \u001b[39mis\u001b[39;00m \u001b[39mnot\u001b[39;00m \u001b[39mNone\u001b[39;00m \u001b[39mand\u001b[39;00m y \u001b[39mis\u001b[39;00m \u001b[39mnot\u001b[39;00m \u001b[39mNone\u001b[39;00m:\n\u001b[1;32m   2940\u001b[0m     \u001b[39mraise\u001b[39;00m \u001b[39mValueError\u001b[39;00m(\u001b[39m\"\u001b[39m\u001b[39mCannot pass values for both `x` and `y`\u001b[39m\u001b[39m\"\u001b[39m)\n\u001b[0;32m-> 2942\u001b[0m plotter \u001b[39m=\u001b[39m _CountPlotter(\n\u001b[1;32m   2943\u001b[0m     x, y, hue, data, order, hue_order,\n\u001b[1;32m   2944\u001b[0m     estimator, errorbar, n_boot, units, seed,\n\u001b[1;32m   2945\u001b[0m     orient, color, palette, saturation,\n\u001b[1;32m   2946\u001b[0m     width, errcolor, errwidth, capsize, dodge\n\u001b[1;32m   2947\u001b[0m )\n\u001b[1;32m   2949\u001b[0m plotter\u001b[39m.\u001b[39mvalue_label \u001b[39m=\u001b[39m \u001b[39m\"\u001b[39m\u001b[39mcount\u001b[39m\u001b[39m\"\u001b[39m\n\u001b[1;32m   2951\u001b[0m \u001b[39mif\u001b[39;00m ax \u001b[39mis\u001b[39;00m \u001b[39mNone\u001b[39;00m:\n",
      "File \u001b[0;32m~/.local/lib/python3.10/site-packages/seaborn/categorical.py:1530\u001b[0m, in \u001b[0;36m_BarPlotter.__init__\u001b[0;34m(self, x, y, hue, data, order, hue_order, estimator, errorbar, n_boot, units, seed, orient, color, palette, saturation, width, errcolor, errwidth, capsize, dodge)\u001b[0m\n\u001b[1;32m   1525\u001b[0m \u001b[39mdef\u001b[39;00m \u001b[39m__init__\u001b[39m(\u001b[39mself\u001b[39m, x, y, hue, data, order, hue_order,\n\u001b[1;32m   1526\u001b[0m              estimator, errorbar, n_boot, units, seed,\n\u001b[1;32m   1527\u001b[0m              orient, color, palette, saturation, width,\n\u001b[1;32m   1528\u001b[0m              errcolor, errwidth, capsize, dodge):\n\u001b[1;32m   1529\u001b[0m     \u001b[39m\"\"\"Initialize the plotter.\"\"\"\u001b[39;00m\n\u001b[0;32m-> 1530\u001b[0m     \u001b[39mself\u001b[39;49m\u001b[39m.\u001b[39;49mestablish_variables(x, y, hue, data, orient,\n\u001b[1;32m   1531\u001b[0m                              order, hue_order, units)\n\u001b[1;32m   1532\u001b[0m     \u001b[39mself\u001b[39m\u001b[39m.\u001b[39mestablish_colors(color, palette, saturation)\n\u001b[1;32m   1533\u001b[0m     \u001b[39mself\u001b[39m\u001b[39m.\u001b[39mestimate_statistic(estimator, errorbar, n_boot, seed)\n",
      "File \u001b[0;32m~/.local/lib/python3.10/site-packages/seaborn/categorical.py:437\u001b[0m, in \u001b[0;36m_CategoricalPlotter.establish_variables\u001b[0;34m(self, x, y, hue, data, orient, order, hue_order, units)\u001b[0m\n\u001b[1;32m    435\u001b[0m \u001b[39mif\u001b[39;00m hue \u001b[39mis\u001b[39;00m \u001b[39mnot\u001b[39;00m \u001b[39mNone\u001b[39;00m:\n\u001b[1;32m    436\u001b[0m     error \u001b[39m=\u001b[39m \u001b[39m\"\u001b[39m\u001b[39mCannot use `hue` without `x` and `y`\u001b[39m\u001b[39m\"\u001b[39m\n\u001b[0;32m--> 437\u001b[0m     \u001b[39mraise\u001b[39;00m \u001b[39mValueError\u001b[39;00m(error)\n\u001b[1;32m    439\u001b[0m \u001b[39m# No hue grouping with wide inputs\u001b[39;00m\n\u001b[1;32m    440\u001b[0m plot_hues \u001b[39m=\u001b[39m \u001b[39mNone\u001b[39;00m\n",
      "\u001b[0;31mValueError\u001b[0m: Cannot use `hue` without `x` and `y`"
     ]
    }
   ],
   "source": [
    "#check if verified user has more tweets\n",
    "\n",
    "sns.countplot(df[\"Sentiment\"],hue=df.IsVerified)\n",
    "plt.title(\"Summary of Counts for Total tweets,Distributed by if the User has a verified Account or not\")\n",
    "\n"
   ]
  }
 ],
 "metadata": {
  "kernelspec": {
   "display_name": "Python 3.10.6 64-bit",
   "language": "python",
   "name": "python3"
  },
  "language_info": {
   "codemirror_mode": {
    "name": "ipython",
    "version": 3
   },
   "file_extension": ".py",
   "mimetype": "text/x-python",
   "name": "python",
   "nbconvert_exporter": "python",
   "pygments_lexer": "ipython3",
   "version": "3.10.6"
  },
  "vscode": {
   "interpreter": {
    "hash": "916dbcbb3f70747c44a77c7bcd40155683ae19c65e1c03b4aa3499c5328201f1"
   }
  }
 },
 "nbformat": 4,
 "nbformat_minor": 2
}
